{
 "cells": [
  {
   "cell_type": "markdown",
   "metadata": {},
   "source": [
    "# Pandas Tutorial\n",
    "\n",
    "**In this tutorial, I have borrowed extensively from others, but have made a concerted effort to synthesize the information in a useful way.**\n",
    "\n",
    "**It is my hope that, while it serves primarily as my own notes and reference, it can also be a useful resource for the broader community.**\n",
    "\n",
    "Note: I created and ran the tutorial using python version 3.5.2 and pandas version 0.19.2 though it will probably run on most other python 3 versions as well."
   ]
  },
  {
   "cell_type": "markdown",
   "metadata": {},
   "source": [
    "## Load Essential Libraries"
   ]
  },
  {
   "cell_type": "code",
   "execution_count": 1,
   "metadata": {
    "collapsed": false
   },
   "outputs": [
    {
     "data": {
      "application/javascript": [
       "IPython.notebook.set_autosave_interval(0)"
      ]
     },
     "metadata": {},
     "output_type": "display_data"
    },
    {
     "name": "stdout",
     "output_type": "stream",
     "text": [
      "Autosave disabled\n"
     ]
    }
   ],
   "source": [
    "%matplotlib inline\n",
    "import numpy as np\n",
    "import pandas as pd\n",
    "import seaborn as sns\n",
    "import matplotlib.pyplot as plt\n",
    "\n",
    "import zipfile\n",
    "import requests\n",
    "\n",
    "%autosave 0"
   ]
  },
  {
   "cell_type": "code",
   "execution_count": 2,
   "metadata": {
    "collapsed": false
   },
   "outputs": [
    {
     "name": "stdout",
     "output_type": "stream",
     "text": [
      "Python 3.5.2 :: Continuum Analytics, Inc.\r\n"
     ]
    }
   ],
   "source": [
    "! python --version"
   ]
  },
  {
   "cell_type": "code",
   "execution_count": 3,
   "metadata": {
    "collapsed": false
   },
   "outputs": [
    {
     "data": {
      "text/plain": [
       "'0.19.2'"
      ]
     },
     "execution_count": 3,
     "metadata": {},
     "output_type": "execute_result"
    }
   ],
   "source": [
    "pd.__version__"
   ]
  },
  {
   "cell_type": "markdown",
   "metadata": {},
   "source": [
    "## Load The Data & Do Basic Exploration"
   ]
  },
  {
   "cell_type": "code",
   "execution_count": 4,
   "metadata": {
    "collapsed": false
   },
   "outputs": [
    {
     "data": {
      "text/html": [
       "<div>\n",
       "<table border=\"1\" class=\"dataframe\">\n",
       "  <thead>\n",
       "    <tr style=\"text-align: right;\">\n",
       "      <th></th>\n",
       "      <th>movie</th>\n",
       "      <th>actor</th>\n",
       "      <th>rank</th>\n",
       "      <th>studio</th>\n",
       "      <th>bday</th>\n",
       "      <th>male</th>\n",
       "      <th>release_date</th>\n",
       "      <th>production_budget</th>\n",
       "      <th>domestic_gross</th>\n",
       "      <th>worldwide_gross</th>\n",
       "    </tr>\n",
       "  </thead>\n",
       "  <tbody>\n",
       "    <tr>\n",
       "      <th>0</th>\n",
       "      <td>(500) Days of Summer</td>\n",
       "      <td>Chloe Moretz</td>\n",
       "      <td>11</td>\n",
       "      <td>FoxS</td>\n",
       "      <td>1997-02-10</td>\n",
       "      <td>0.0</td>\n",
       "      <td>2009-07-17</td>\n",
       "      <td>7500000.0</td>\n",
       "      <td>32391374.0</td>\n",
       "      <td>59101642.0</td>\n",
       "    </tr>\n",
       "    <tr>\n",
       "      <th>1</th>\n",
       "      <td>(500) Days of Summer</td>\n",
       "      <td>Clark Gregg</td>\n",
       "      <td>7</td>\n",
       "      <td>FoxS</td>\n",
       "      <td>1962-04-02</td>\n",
       "      <td>1.0</td>\n",
       "      <td>2009-07-17</td>\n",
       "      <td>7500000.0</td>\n",
       "      <td>32391374.0</td>\n",
       "      <td>59101642.0</td>\n",
       "    </tr>\n",
       "    <tr>\n",
       "      <th>2</th>\n",
       "      <td>(500) Days of Summer</td>\n",
       "      <td>Minka Kelly</td>\n",
       "      <td>-</td>\n",
       "      <td>FoxS</td>\n",
       "      <td>1980-06-24</td>\n",
       "      <td>0.0</td>\n",
       "      <td>2009-07-17</td>\n",
       "      <td>7500000.0</td>\n",
       "      <td>32391374.0</td>\n",
       "      <td>59101642.0</td>\n",
       "    </tr>\n",
       "    <tr>\n",
       "      <th>3</th>\n",
       "      <td>(500) Days of Summer</td>\n",
       "      <td>Zooey Deschanel</td>\n",
       "      <td>10</td>\n",
       "      <td>FoxS</td>\n",
       "      <td>1980-01-17</td>\n",
       "      <td>0.0</td>\n",
       "      <td>2009-07-17</td>\n",
       "      <td>7500000.0</td>\n",
       "      <td>32391374.0</td>\n",
       "      <td>59101642.0</td>\n",
       "    </tr>\n",
       "    <tr>\n",
       "      <th>4</th>\n",
       "      <td>10 Cloverfield Lane</td>\n",
       "      <td>Mary Elizabeth Winstead</td>\n",
       "      <td>4</td>\n",
       "      <td>Par.</td>\n",
       "      <td>1984-11-28</td>\n",
       "      <td>0.0</td>\n",
       "      <td>2016-03-11</td>\n",
       "      <td>5000000.0</td>\n",
       "      <td>69793284.0</td>\n",
       "      <td>101493284.0</td>\n",
       "    </tr>\n",
       "  </tbody>\n",
       "</table>\n",
       "</div>"
      ],
      "text/plain": [
       "                  movie                    actor rank studio        bday  \\\n",
       "0  (500) Days of Summer             Chloe Moretz   11   FoxS  1997-02-10   \n",
       "1  (500) Days of Summer              Clark Gregg    7   FoxS  1962-04-02   \n",
       "2  (500) Days of Summer              Minka Kelly    -   FoxS  1980-06-24   \n",
       "3  (500) Days of Summer          Zooey Deschanel   10   FoxS  1980-01-17   \n",
       "4   10 Cloverfield Lane  Mary Elizabeth Winstead    4   Par.  1984-11-28   \n",
       "\n",
       "   male release_date  production_budget  domestic_gross  worldwide_gross  \n",
       "0   0.0   2009-07-17          7500000.0      32391374.0       59101642.0  \n",
       "1   1.0   2009-07-17          7500000.0      32391374.0       59101642.0  \n",
       "2   0.0   2009-07-17          7500000.0      32391374.0       59101642.0  \n",
       "3   0.0   2009-07-17          7500000.0      32391374.0       59101642.0  \n",
       "4   0.0   2016-03-11          5000000.0      69793284.0      101493284.0  "
      ]
     },
     "execution_count": 4,
     "metadata": {},
     "output_type": "execute_result"
    }
   ],
   "source": [
    "df = pd.read_csv('datafiles/mini_movie_data.csv')\n",
    "df.head()"
   ]
  },
  {
   "cell_type": "code",
   "execution_count": 5,
   "metadata": {
    "collapsed": false
   },
   "outputs": [
    {
     "data": {
      "text/plain": [
       "Index(['movie', 'actor', 'rank', 'studio', 'bday', 'male', 'release_date',\n",
       "       'production_budget', 'domestic_gross', 'worldwide_gross'],\n",
       "      dtype='object')"
      ]
     },
     "execution_count": 5,
     "metadata": {},
     "output_type": "execute_result"
    }
   ],
   "source": [
    "df.columns"
   ]
  },
  {
   "cell_type": "code",
   "execution_count": 6,
   "metadata": {
    "collapsed": false
   },
   "outputs": [
    {
     "data": {
      "text/html": [
       "<div>\n",
       "<table border=\"1\" class=\"dataframe\">\n",
       "  <thead>\n",
       "    <tr style=\"text-align: right;\">\n",
       "      <th></th>\n",
       "      <th>male</th>\n",
       "      <th>production_budget</th>\n",
       "      <th>domestic_gross</th>\n",
       "      <th>worldwide_gross</th>\n",
       "    </tr>\n",
       "  </thead>\n",
       "  <tbody>\n",
       "    <tr>\n",
       "      <th>count</th>\n",
       "      <td>9342.000000</td>\n",
       "      <td>9.342000e+03</td>\n",
       "      <td>9.342000e+03</td>\n",
       "      <td>9.342000e+03</td>\n",
       "    </tr>\n",
       "    <tr>\n",
       "      <th>mean</th>\n",
       "      <td>0.668593</td>\n",
       "      <td>5.082997e+07</td>\n",
       "      <td>6.888544e+07</td>\n",
       "      <td>1.540798e+08</td>\n",
       "    </tr>\n",
       "    <tr>\n",
       "      <th>std</th>\n",
       "      <td>0.470744</td>\n",
       "      <td>5.020522e+07</td>\n",
       "      <td>8.230204e+07</td>\n",
       "      <td>2.253854e+08</td>\n",
       "    </tr>\n",
       "    <tr>\n",
       "      <th>min</th>\n",
       "      <td>0.000000</td>\n",
       "      <td>1.500000e+04</td>\n",
       "      <td>0.000000e+00</td>\n",
       "      <td>0.000000e+00</td>\n",
       "    </tr>\n",
       "    <tr>\n",
       "      <th>25%</th>\n",
       "      <td>0.000000</td>\n",
       "      <td>1.600000e+07</td>\n",
       "      <td>1.503490e+07</td>\n",
       "      <td>2.284500e+07</td>\n",
       "    </tr>\n",
       "    <tr>\n",
       "      <th>50%</th>\n",
       "      <td>1.000000</td>\n",
       "      <td>3.500000e+07</td>\n",
       "      <td>4.033402e+07</td>\n",
       "      <td>7.143088e+07</td>\n",
       "    </tr>\n",
       "    <tr>\n",
       "      <th>75%</th>\n",
       "      <td>1.000000</td>\n",
       "      <td>6.900000e+07</td>\n",
       "      <td>9.216786e+07</td>\n",
       "      <td>1.857085e+08</td>\n",
       "    </tr>\n",
       "    <tr>\n",
       "      <th>max</th>\n",
       "      <td>1.000000</td>\n",
       "      <td>4.250000e+08</td>\n",
       "      <td>7.605076e+08</td>\n",
       "      <td>2.783919e+09</td>\n",
       "    </tr>\n",
       "  </tbody>\n",
       "</table>\n",
       "</div>"
      ],
      "text/plain": [
       "              male  production_budget  domestic_gross  worldwide_gross\n",
       "count  9342.000000       9.342000e+03    9.342000e+03     9.342000e+03\n",
       "mean      0.668593       5.082997e+07    6.888544e+07     1.540798e+08\n",
       "std       0.470744       5.020522e+07    8.230204e+07     2.253854e+08\n",
       "min       0.000000       1.500000e+04    0.000000e+00     0.000000e+00\n",
       "25%       0.000000       1.600000e+07    1.503490e+07     2.284500e+07\n",
       "50%       1.000000       3.500000e+07    4.033402e+07     7.143088e+07\n",
       "75%       1.000000       6.900000e+07    9.216786e+07     1.857085e+08\n",
       "max       1.000000       4.250000e+08    7.605076e+08     2.783919e+09"
      ]
     },
     "execution_count": 6,
     "metadata": {},
     "output_type": "execute_result"
    }
   ],
   "source": [
    "df.describe()"
   ]
  },
  {
   "cell_type": "code",
   "execution_count": 7,
   "metadata": {
    "collapsed": false
   },
   "outputs": [
    {
     "name": "stdout",
     "output_type": "stream",
     "text": [
      "<class 'pandas.core.frame.DataFrame'>\n",
      "RangeIndex: 9342 entries, 0 to 9341\n",
      "Data columns (total 10 columns):\n",
      "movie                9342 non-null object\n",
      "actor                9342 non-null object\n",
      "rank                 9342 non-null object\n",
      "studio               9342 non-null object\n",
      "bday                 9342 non-null object\n",
      "male                 9342 non-null float64\n",
      "release_date         9342 non-null object\n",
      "production_budget    9342 non-null float64\n",
      "domestic_gross       9342 non-null float64\n",
      "worldwide_gross      9342 non-null float64\n",
      "dtypes: float64(4), object(6)\n",
      "memory usage: 729.9+ KB\n"
     ]
    }
   ],
   "source": [
    "df.info()"
   ]
  },
  {
   "cell_type": "markdown",
   "metadata": {},
   "source": [
    "## The `rename` function"
   ]
  },
  {
   "cell_type": "code",
   "execution_count": 8,
   "metadata": {
    "collapsed": false
   },
   "outputs": [
    {
     "data": {
      "text/html": [
       "<div>\n",
       "<table border=\"1\" class=\"dataframe\">\n",
       "  <thead>\n",
       "    <tr style=\"text-align: right;\">\n",
       "      <th></th>\n",
       "      <th>title</th>\n",
       "      <th>actor</th>\n",
       "      <th>rank</th>\n",
       "      <th>studio</th>\n",
       "      <th>bday</th>\n",
       "      <th>male</th>\n",
       "      <th>release_date</th>\n",
       "      <th>production_budget</th>\n",
       "      <th>domestic_gross</th>\n",
       "      <th>worldwide_gross</th>\n",
       "    </tr>\n",
       "  </thead>\n",
       "  <tbody>\n",
       "    <tr>\n",
       "      <th>0</th>\n",
       "      <td>(500) Days of Summer</td>\n",
       "      <td>Chloe Moretz</td>\n",
       "      <td>11</td>\n",
       "      <td>FoxS</td>\n",
       "      <td>1997-02-10</td>\n",
       "      <td>0.0</td>\n",
       "      <td>2009-07-17</td>\n",
       "      <td>7500000.0</td>\n",
       "      <td>32391374.0</td>\n",
       "      <td>59101642.0</td>\n",
       "    </tr>\n",
       "    <tr>\n",
       "      <th>1</th>\n",
       "      <td>(500) Days of Summer</td>\n",
       "      <td>Clark Gregg</td>\n",
       "      <td>7</td>\n",
       "      <td>FoxS</td>\n",
       "      <td>1962-04-02</td>\n",
       "      <td>1.0</td>\n",
       "      <td>2009-07-17</td>\n",
       "      <td>7500000.0</td>\n",
       "      <td>32391374.0</td>\n",
       "      <td>59101642.0</td>\n",
       "    </tr>\n",
       "  </tbody>\n",
       "</table>\n",
       "</div>"
      ],
      "text/plain": [
       "                  title         actor rank studio        bday  male  \\\n",
       "0  (500) Days of Summer  Chloe Moretz   11   FoxS  1997-02-10   0.0   \n",
       "1  (500) Days of Summer   Clark Gregg    7   FoxS  1962-04-02   1.0   \n",
       "\n",
       "  release_date  production_budget  domestic_gross  worldwide_gross  \n",
       "0   2009-07-17          7500000.0      32391374.0       59101642.0  \n",
       "1   2009-07-17          7500000.0      32391374.0       59101642.0  "
      ]
     },
     "execution_count": 8,
     "metadata": {},
     "output_type": "execute_result"
    }
   ],
   "source": [
    "# rename the 'movie' column to 'title'\n",
    "# you can rename multiple columns by adding more key:value pairs to the dictionary\n",
    "df.rename(columns={'movie':'title'}, inplace=True)\n",
    "df.head(2)"
   ]
  },
  {
   "cell_type": "markdown",
   "metadata": {},
   "source": [
    "## Basic Indexing and data access\n",
    "\n",
    "Pandas has two main methods of grabbing data:\n",
    "* `.loc` for label-based indexing (like row or column names)\n",
    "* `.iloc` for positional indexing (like array indices)\n",
    "* There is also `.ix` which tries to do both, but should not generally be used"
   ]
  },
  {
   "cell_type": "code",
   "execution_count": 9,
   "metadata": {
    "collapsed": false
   },
   "outputs": [
    {
     "data": {
      "text/html": [
       "<div>\n",
       "<table border=\"1\" class=\"dataframe\">\n",
       "  <thead>\n",
       "    <tr style=\"text-align: right;\">\n",
       "      <th></th>\n",
       "      <th>actor</th>\n",
       "      <th>studio</th>\n",
       "    </tr>\n",
       "  </thead>\n",
       "  <tbody>\n",
       "    <tr>\n",
       "      <th>1</th>\n",
       "      <td>Clark Gregg</td>\n",
       "      <td>FoxS</td>\n",
       "    </tr>\n",
       "    <tr>\n",
       "      <th>2</th>\n",
       "      <td>Minka Kelly</td>\n",
       "      <td>FoxS</td>\n",
       "    </tr>\n",
       "  </tbody>\n",
       "</table>\n",
       "</div>"
      ],
      "text/plain": [
       "         actor studio\n",
       "1  Clark Gregg   FoxS\n",
       "2  Minka Kelly   FoxS"
      ]
     },
     "execution_count": 9,
     "metadata": {},
     "output_type": "execute_result"
    }
   ],
   "source": [
    "# get rows starting at index 1 and ending before 3\n",
    "# and only get from columns at indices 1 and 3\n",
    "df.iloc[1:3,[1,3]]"
   ]
  },
  {
   "cell_type": "code",
   "execution_count": 10,
   "metadata": {
    "collapsed": false
   },
   "outputs": [
    {
     "data": {
      "text/html": [
       "<div>\n",
       "<table border=\"1\" class=\"dataframe\">\n",
       "  <thead>\n",
       "    <tr style=\"text-align: right;\">\n",
       "      <th></th>\n",
       "      <th>title</th>\n",
       "      <th>actor</th>\n",
       "      <th>rank</th>\n",
       "    </tr>\n",
       "  </thead>\n",
       "  <tbody>\n",
       "    <tr>\n",
       "      <th>1</th>\n",
       "      <td>(500) Days of Summer</td>\n",
       "      <td>Clark Gregg</td>\n",
       "      <td>7</td>\n",
       "    </tr>\n",
       "    <tr>\n",
       "      <th>2</th>\n",
       "      <td>(500) Days of Summer</td>\n",
       "      <td>Minka Kelly</td>\n",
       "      <td>-</td>\n",
       "    </tr>\n",
       "    <tr>\n",
       "      <th>3</th>\n",
       "      <td>(500) Days of Summer</td>\n",
       "      <td>Zooey Deschanel</td>\n",
       "      <td>10</td>\n",
       "    </tr>\n",
       "  </tbody>\n",
       "</table>\n",
       "</div>"
      ],
      "text/plain": [
       "                  title            actor rank\n",
       "1  (500) Days of Summer      Clark Gregg    7\n",
       "2  (500) Days of Summer      Minka Kelly    -\n",
       "3  (500) Days of Summer  Zooey Deschanel   10"
      ]
     },
     "execution_count": 10,
     "metadata": {},
     "output_type": "execute_result"
    }
   ],
   "source": [
    "# note that the numbers only work in loc\n",
    "# because are row labels are actually numbers at the moment\n",
    "df.loc[1:3,'title':'rank']"
   ]
  },
  {
   "cell_type": "code",
   "execution_count": 11,
   "metadata": {
    "collapsed": false
   },
   "outputs": [
    {
     "data": {
      "text/html": [
       "<div>\n",
       "<table border=\"1\" class=\"dataframe\">\n",
       "  <thead>\n",
       "    <tr style=\"text-align: right;\">\n",
       "      <th></th>\n",
       "      <th>actor</th>\n",
       "      <th>studio</th>\n",
       "      <th>rank</th>\n",
       "    </tr>\n",
       "  </thead>\n",
       "  <tbody>\n",
       "    <tr>\n",
       "      <th>3</th>\n",
       "      <td>Zooey Deschanel</td>\n",
       "      <td>FoxS</td>\n",
       "      <td>10</td>\n",
       "    </tr>\n",
       "    <tr>\n",
       "      <th>5</th>\n",
       "      <td>Glenn Close</td>\n",
       "      <td>BV</td>\n",
       "      <td>7</td>\n",
       "    </tr>\n",
       "    <tr>\n",
       "      <th>8</th>\n",
       "      <td>James Marsden</td>\n",
       "      <td>Think</td>\n",
       "      <td>29</td>\n",
       "    </tr>\n",
       "  </tbody>\n",
       "</table>\n",
       "</div>"
      ],
      "text/plain": [
       "             actor studio rank\n",
       "3  Zooey Deschanel   FoxS   10\n",
       "5      Glenn Close     BV    7\n",
       "8    James Marsden  Think   29"
      ]
     },
     "execution_count": 11,
     "metadata": {},
     "output_type": "execute_result"
    }
   ],
   "source": [
    "# these tools allow us to access any arbitrary set of points\n",
    "# within the dataframe\n",
    "df.loc[[3,5,8],['actor','studio','rank']]"
   ]
  },
  {
   "cell_type": "markdown",
   "metadata": {},
   "source": [
    "## Boolean Indexing\n",
    "\n",
    "* Pandas allows you to access data by criterion"
   ]
  },
  {
   "cell_type": "code",
   "execution_count": 12,
   "metadata": {
    "collapsed": false
   },
   "outputs": [],
   "source": [
    "# create an array of alternating True and False values\n",
    "tf_array = [True, False] * (len(df)//2)"
   ]
  },
  {
   "cell_type": "code",
   "execution_count": 13,
   "metadata": {
    "collapsed": false
   },
   "outputs": [
    {
     "data": {
      "text/html": [
       "<div>\n",
       "<table border=\"1\" class=\"dataframe\">\n",
       "  <thead>\n",
       "    <tr style=\"text-align: right;\">\n",
       "      <th></th>\n",
       "      <th>title</th>\n",
       "      <th>actor</th>\n",
       "      <th>rank</th>\n",
       "      <th>studio</th>\n",
       "      <th>bday</th>\n",
       "      <th>male</th>\n",
       "      <th>release_date</th>\n",
       "      <th>production_budget</th>\n",
       "      <th>domestic_gross</th>\n",
       "      <th>worldwide_gross</th>\n",
       "    </tr>\n",
       "  </thead>\n",
       "  <tbody>\n",
       "    <tr>\n",
       "      <th>0</th>\n",
       "      <td>(500) Days of Summer</td>\n",
       "      <td>Chloe Moretz</td>\n",
       "      <td>11</td>\n",
       "      <td>FoxS</td>\n",
       "      <td>1997-02-10</td>\n",
       "      <td>0.0</td>\n",
       "      <td>2009-07-17</td>\n",
       "      <td>7500000.0</td>\n",
       "      <td>32391374.0</td>\n",
       "      <td>59101642.0</td>\n",
       "    </tr>\n",
       "    <tr>\n",
       "      <th>2</th>\n",
       "      <td>(500) Days of Summer</td>\n",
       "      <td>Minka Kelly</td>\n",
       "      <td>-</td>\n",
       "      <td>FoxS</td>\n",
       "      <td>1980-06-24</td>\n",
       "      <td>0.0</td>\n",
       "      <td>2009-07-17</td>\n",
       "      <td>7500000.0</td>\n",
       "      <td>32391374.0</td>\n",
       "      <td>59101642.0</td>\n",
       "    </tr>\n",
       "    <tr>\n",
       "      <th>4</th>\n",
       "      <td>10 Cloverfield Lane</td>\n",
       "      <td>Mary Elizabeth Winstead</td>\n",
       "      <td>4</td>\n",
       "      <td>Par.</td>\n",
       "      <td>1984-11-28</td>\n",
       "      <td>0.0</td>\n",
       "      <td>2016-03-11</td>\n",
       "      <td>5000000.0</td>\n",
       "      <td>69793284.0</td>\n",
       "      <td>101493284.0</td>\n",
       "    </tr>\n",
       "    <tr>\n",
       "      <th>6</th>\n",
       "      <td>102 Dalmatians</td>\n",
       "      <td>Ioan Gruffudd</td>\n",
       "      <td>4</td>\n",
       "      <td>BV</td>\n",
       "      <td>1973-10-06</td>\n",
       "      <td>1.0</td>\n",
       "      <td>2000-11-22</td>\n",
       "      <td>85000000.0</td>\n",
       "      <td>66941559.0</td>\n",
       "      <td>66941559.0</td>\n",
       "    </tr>\n",
       "    <tr>\n",
       "      <th>8</th>\n",
       "      <td>10th &amp; Wolf</td>\n",
       "      <td>James Marsden</td>\n",
       "      <td>29</td>\n",
       "      <td>Think</td>\n",
       "      <td>1973-09-18</td>\n",
       "      <td>1.0</td>\n",
       "      <td>2006-08-18</td>\n",
       "      <td>8000000.0</td>\n",
       "      <td>54702.0</td>\n",
       "      <td>143782.0</td>\n",
       "    </tr>\n",
       "  </tbody>\n",
       "</table>\n",
       "</div>"
      ],
      "text/plain": [
       "                  title                    actor rank studio        bday  \\\n",
       "0  (500) Days of Summer             Chloe Moretz   11   FoxS  1997-02-10   \n",
       "2  (500) Days of Summer              Minka Kelly    -   FoxS  1980-06-24   \n",
       "4   10 Cloverfield Lane  Mary Elizabeth Winstead    4   Par.  1984-11-28   \n",
       "6        102 Dalmatians            Ioan Gruffudd    4     BV  1973-10-06   \n",
       "8           10th & Wolf            James Marsden   29  Think  1973-09-18   \n",
       "\n",
       "   male release_date  production_budget  domestic_gross  worldwide_gross  \n",
       "0   0.0   2009-07-17          7500000.0      32391374.0       59101642.0  \n",
       "2   0.0   2009-07-17          7500000.0      32391374.0       59101642.0  \n",
       "4   0.0   2016-03-11          5000000.0      69793284.0      101493284.0  \n",
       "6   1.0   2000-11-22         85000000.0      66941559.0       66941559.0  \n",
       "8   1.0   2006-08-18          8000000.0         54702.0         143782.0  "
      ]
     },
     "execution_count": 13,
     "metadata": {},
     "output_type": "execute_result"
    }
   ],
   "source": [
    "# get every other value in the array, up to the 5th element\n",
    "df.loc[tf_array,:][:5]"
   ]
  },
  {
   "cell_type": "code",
   "execution_count": 14,
   "metadata": {
    "collapsed": false
   },
   "outputs": [
    {
     "data": {
      "text/html": [
       "<div>\n",
       "<table border=\"1\" class=\"dataframe\">\n",
       "  <thead>\n",
       "    <tr style=\"text-align: right;\">\n",
       "      <th></th>\n",
       "      <th>title</th>\n",
       "      <th>actor</th>\n",
       "      <th>rank</th>\n",
       "      <th>studio</th>\n",
       "      <th>bday</th>\n",
       "      <th>male</th>\n",
       "      <th>release_date</th>\n",
       "      <th>production_budget</th>\n",
       "      <th>domestic_gross</th>\n",
       "      <th>worldwide_gross</th>\n",
       "    </tr>\n",
       "  </thead>\n",
       "  <tbody>\n",
       "    <tr>\n",
       "      <th>1346</th>\n",
       "      <td>Chain Reaction</td>\n",
       "      <td>Morgan Freeman</td>\n",
       "      <td>36</td>\n",
       "      <td>Fox</td>\n",
       "      <td>1937-06-01</td>\n",
       "      <td>1.0</td>\n",
       "      <td>1996-08-02</td>\n",
       "      <td>55000000.0</td>\n",
       "      <td>20550712.0</td>\n",
       "      <td>59533842.0</td>\n",
       "    </tr>\n",
       "    <tr>\n",
       "      <th>3617</th>\n",
       "      <td>Joy</td>\n",
       "      <td>Robert DeNiro</td>\n",
       "      <td>34</td>\n",
       "      <td>Fox</td>\n",
       "      <td>1943-08-17</td>\n",
       "      <td>1.0</td>\n",
       "      <td>2015-12-25</td>\n",
       "      <td>60000000.0</td>\n",
       "      <td>56451232.0</td>\n",
       "      <td>100751232.0</td>\n",
       "    </tr>\n",
       "    <tr>\n",
       "      <th>3762</th>\n",
       "      <td>Kiss of Death</td>\n",
       "      <td>Nicolas Cage</td>\n",
       "      <td>35</td>\n",
       "      <td>Fox</td>\n",
       "      <td>1964-01-07</td>\n",
       "      <td>1.0</td>\n",
       "      <td>1995-04-21</td>\n",
       "      <td>40000000.0</td>\n",
       "      <td>14924355.0</td>\n",
       "      <td>14924355.0</td>\n",
       "    </tr>\n",
       "    <tr>\n",
       "      <th>4366</th>\n",
       "      <td>Meet Dave</td>\n",
       "      <td>Eddie Murphy</td>\n",
       "      <td>37</td>\n",
       "      <td>Fox</td>\n",
       "      <td>1961-04-03</td>\n",
       "      <td>1.0</td>\n",
       "      <td>2008-07-11</td>\n",
       "      <td>60000000.0</td>\n",
       "      <td>11803254.0</td>\n",
       "      <td>50648806.0</td>\n",
       "    </tr>\n",
       "    <tr>\n",
       "      <th>6701</th>\n",
       "      <td>The Big Year</td>\n",
       "      <td>Owen Wilson</td>\n",
       "      <td>34</td>\n",
       "      <td>Fox</td>\n",
       "      <td>1968-11-18</td>\n",
       "      <td>1.0</td>\n",
       "      <td>2011-10-14</td>\n",
       "      <td>41000000.0</td>\n",
       "      <td>7204138.0</td>\n",
       "      <td>7684524.0</td>\n",
       "    </tr>\n",
       "    <tr>\n",
       "      <th>6704</th>\n",
       "      <td>The Big Year</td>\n",
       "      <td>Steve Martin</td>\n",
       "      <td>34</td>\n",
       "      <td>Fox</td>\n",
       "      <td>1945-08-14</td>\n",
       "      <td>1.0</td>\n",
       "      <td>2011-10-14</td>\n",
       "      <td>41000000.0</td>\n",
       "      <td>7204138.0</td>\n",
       "      <td>7684524.0</td>\n",
       "    </tr>\n",
       "  </tbody>\n",
       "</table>\n",
       "</div>"
      ],
      "text/plain": [
       "               title           actor  rank studio        bday  male  \\\n",
       "1346  Chain Reaction  Morgan Freeman    36    Fox  1937-06-01   1.0   \n",
       "3617             Joy   Robert DeNiro    34    Fox  1943-08-17   1.0   \n",
       "3762   Kiss of Death    Nicolas Cage    35    Fox  1964-01-07   1.0   \n",
       "4366       Meet Dave    Eddie Murphy    37    Fox  1961-04-03   1.0   \n",
       "6701    The Big Year     Owen Wilson    34    Fox  1968-11-18   1.0   \n",
       "6704    The Big Year    Steve Martin    34    Fox  1945-08-14   1.0   \n",
       "\n",
       "     release_date  production_budget  domestic_gross  worldwide_gross  \n",
       "1346   1996-08-02         55000000.0      20550712.0       59533842.0  \n",
       "3617   2015-12-25         60000000.0      56451232.0      100751232.0  \n",
       "3762   1995-04-21         40000000.0      14924355.0       14924355.0  \n",
       "4366   2008-07-11         60000000.0      11803254.0       50648806.0  \n",
       "6701   2011-10-14         41000000.0       7204138.0        7684524.0  \n",
       "6704   2011-10-14         41000000.0       7204138.0        7684524.0  "
      ]
     },
     "execution_count": 14,
     "metadata": {},
     "output_type": "execute_result"
    }
   ],
   "source": [
    "# this true/false indexing can be directly extended to boolean conditions:\n",
    "\n",
    "# first clean the data a bit\n",
    "df['rank'] = df['rank'].replace('-',9999999999999)\n",
    "df['rank'] = pd.to_numeric(df['rank'])\n",
    "\n",
    "# get all the movies with rank between 34 and 38 with \"Fox\" as the studio & domestic_gross < production_budget\n",
    "df[(df['rank'] >= 34) & (df['rank'] <= 38) & (df['studio']=='Fox') & (df['domestic_gross']<df['production_budget'])]"
   ]
  },
  {
   "cell_type": "markdown",
   "metadata": {},
   "source": [
    "### SettingWithCopy"
   ]
  },
  {
   "cell_type": "code",
   "execution_count": 15,
   "metadata": {
    "collapsed": false
   },
   "outputs": [
    {
     "data": {
      "text/html": [
       "<div>\n",
       "<table border=\"1\" class=\"dataframe\">\n",
       "  <thead>\n",
       "    <tr style=\"text-align: right;\">\n",
       "      <th></th>\n",
       "      <th>a</th>\n",
       "      <th>b</th>\n",
       "    </tr>\n",
       "  </thead>\n",
       "  <tbody>\n",
       "    <tr>\n",
       "      <th>0</th>\n",
       "      <td>1</td>\n",
       "      <td>10</td>\n",
       "    </tr>\n",
       "    <tr>\n",
       "      <th>1</th>\n",
       "      <td>2</td>\n",
       "      <td>20</td>\n",
       "    </tr>\n",
       "    <tr>\n",
       "      <th>2</th>\n",
       "      <td>3</td>\n",
       "      <td>30</td>\n",
       "    </tr>\n",
       "    <tr>\n",
       "      <th>3</th>\n",
       "      <td>4</td>\n",
       "      <td>40</td>\n",
       "    </tr>\n",
       "    <tr>\n",
       "      <th>4</th>\n",
       "      <td>5</td>\n",
       "      <td>50</td>\n",
       "    </tr>\n",
       "  </tbody>\n",
       "</table>\n",
       "</div>"
      ],
      "text/plain": [
       "   a   b\n",
       "0  1  10\n",
       "1  2  20\n",
       "2  3  30\n",
       "3  4  40\n",
       "4  5  50"
      ]
     },
     "execution_count": 15,
     "metadata": {},
     "output_type": "execute_result"
    }
   ],
   "source": [
    "# another example\n",
    "f = pd.DataFrame({'a':[1,2,3,4,5], 'b':[10,20,30,40,50]})\n",
    "f"
   ]
  },
  {
   "cell_type": "code",
   "execution_count": 16,
   "metadata": {
    "collapsed": false
   },
   "outputs": [
    {
     "name": "stderr",
     "output_type": "stream",
     "text": [
      "/opt/conda/lib/python3.5/site-packages/ipykernel/__main__.py:5: SettingWithCopyWarning: \n",
      "A value is trying to be set on a copy of a slice from a DataFrame.\n",
      "Try using .loc[row_indexer,col_indexer] = value instead\n",
      "\n",
      "See the caveats in the documentation: http://pandas.pydata.org/pandas-docs/stable/indexing.html#indexing-view-versus-copy\n"
     ]
    },
    {
     "data": {
      "text/html": [
       "<div>\n",
       "<table border=\"1\" class=\"dataframe\">\n",
       "  <thead>\n",
       "    <tr style=\"text-align: right;\">\n",
       "      <th></th>\n",
       "      <th>a</th>\n",
       "      <th>b</th>\n",
       "    </tr>\n",
       "  </thead>\n",
       "  <tbody>\n",
       "    <tr>\n",
       "      <th>0</th>\n",
       "      <td>1</td>\n",
       "      <td>10</td>\n",
       "    </tr>\n",
       "    <tr>\n",
       "      <th>1</th>\n",
       "      <td>2</td>\n",
       "      <td>20</td>\n",
       "    </tr>\n",
       "    <tr>\n",
       "      <th>2</th>\n",
       "      <td>3</td>\n",
       "      <td>30</td>\n",
       "    </tr>\n",
       "    <tr>\n",
       "      <th>3</th>\n",
       "      <td>4</td>\n",
       "      <td>40</td>\n",
       "    </tr>\n",
       "    <tr>\n",
       "      <th>4</th>\n",
       "      <td>5</td>\n",
       "      <td>50</td>\n",
       "    </tr>\n",
       "  </tbody>\n",
       "</table>\n",
       "</div>"
      ],
      "text/plain": [
       "   a   b\n",
       "0  1  10\n",
       "1  2  20\n",
       "2  3  30\n",
       "3  4  40\n",
       "4  5  50"
      ]
     },
     "execution_count": 16,
     "metadata": {},
     "output_type": "execute_result"
    }
   ],
   "source": [
    "# Let's take only the rows of `b` where `a` is 3 or less, and set the `b` values equal to `b` / 10:\n",
    "# ! Pitfall - in pandas try to avoid side-by-side square brackets when indexing as it is not guaranteed\n",
    "# whether the results of the first square bracket return a view or a copy that is then acted on by the\n",
    "# second square brackets\n",
    "f[f['a'] <= 3]['b'] = f[f['a'] <= 3 ]['b'] / 10\n",
    "f"
   ]
  },
  {
   "cell_type": "code",
   "execution_count": 17,
   "metadata": {
    "collapsed": false
   },
   "outputs": [
    {
     "data": {
      "text/html": [
       "<div>\n",
       "<table border=\"1\" class=\"dataframe\">\n",
       "  <thead>\n",
       "    <tr style=\"text-align: right;\">\n",
       "      <th></th>\n",
       "      <th>a</th>\n",
       "      <th>b</th>\n",
       "    </tr>\n",
       "  </thead>\n",
       "  <tbody>\n",
       "    <tr>\n",
       "      <th>0</th>\n",
       "      <td>1</td>\n",
       "      <td>1.0</td>\n",
       "    </tr>\n",
       "    <tr>\n",
       "      <th>1</th>\n",
       "      <td>2</td>\n",
       "      <td>2.0</td>\n",
       "    </tr>\n",
       "    <tr>\n",
       "      <th>2</th>\n",
       "      <td>3</td>\n",
       "      <td>3.0</td>\n",
       "    </tr>\n",
       "    <tr>\n",
       "      <th>3</th>\n",
       "      <td>4</td>\n",
       "      <td>40.0</td>\n",
       "    </tr>\n",
       "    <tr>\n",
       "      <th>4</th>\n",
       "      <td>5</td>\n",
       "      <td>50.0</td>\n",
       "    </tr>\n",
       "  </tbody>\n",
       "</table>\n",
       "</div>"
      ],
      "text/plain": [
       "   a     b\n",
       "0  1   1.0\n",
       "1  2   2.0\n",
       "2  3   3.0\n",
       "3  4  40.0\n",
       "4  5  50.0"
      ]
     },
     "execution_count": 17,
     "metadata": {},
     "output_type": "execute_result"
    }
   ],
   "source": [
    "# the correct way to do it is to use .loc and put it all in one set of brackets\n",
    "f.loc[f['a'] <= 3, 'b'] = f.loc[f['a'] <= 3, 'b'] / 10\n",
    "f"
   ]
  },
  {
   "cell_type": "markdown",
   "metadata": {},
   "source": [
    "## Groupby objects"
   ]
  },
  {
   "cell_type": "code",
   "execution_count": 18,
   "metadata": {
    "collapsed": false
   },
   "outputs": [
    {
     "data": {
      "text/plain": [
       "<pandas.core.groupby.DataFrameGroupBy object at 0x7f5ca9025828>"
      ]
     },
     "execution_count": 18,
     "metadata": {},
     "output_type": "execute_result"
    }
   ],
   "source": [
    "actors =df.groupby('actor')\n",
    "# this results in a groupby object that we can run functions on or send queries to\n",
    "actors"
   ]
  },
  {
   "cell_type": "code",
   "execution_count": 19,
   "metadata": {
    "collapsed": false
   },
   "outputs": [
    {
     "data": {
      "text/html": [
       "<div>\n",
       "<table border=\"1\" class=\"dataframe\">\n",
       "  <thead>\n",
       "    <tr style=\"text-align: right;\">\n",
       "      <th></th>\n",
       "      <th>title</th>\n",
       "      <th>rank</th>\n",
       "      <th>studio</th>\n",
       "      <th>bday</th>\n",
       "      <th>male</th>\n",
       "      <th>release_date</th>\n",
       "      <th>production_budget</th>\n",
       "      <th>domestic_gross</th>\n",
       "      <th>worldwide_gross</th>\n",
       "    </tr>\n",
       "    <tr>\n",
       "      <th>actor</th>\n",
       "      <th></th>\n",
       "      <th></th>\n",
       "      <th></th>\n",
       "      <th></th>\n",
       "      <th></th>\n",
       "      <th></th>\n",
       "      <th></th>\n",
       "      <th></th>\n",
       "      <th></th>\n",
       "    </tr>\n",
       "  </thead>\n",
       "  <tbody>\n",
       "    <tr>\n",
       "      <th>Aaron Eckhart</th>\n",
       "      <td>Any Given Sunday</td>\n",
       "      <td>3</td>\n",
       "      <td>WB</td>\n",
       "      <td>1968-03-12</td>\n",
       "      <td>1.0</td>\n",
       "      <td>1999-12-22</td>\n",
       "      <td>60000000.0</td>\n",
       "      <td>75530832.0</td>\n",
       "      <td>100230832.0</td>\n",
       "    </tr>\n",
       "    <tr>\n",
       "      <th>Aaron Johnson</th>\n",
       "      <td>Anna Karenina</td>\n",
       "      <td>7</td>\n",
       "      <td>Focus</td>\n",
       "      <td>1990-06-13</td>\n",
       "      <td>1.0</td>\n",
       "      <td>2012-11-16</td>\n",
       "      <td>49000000.0</td>\n",
       "      <td>12816367.0</td>\n",
       "      <td>71004627.0</td>\n",
       "    </tr>\n",
       "    <tr>\n",
       "      <th>Abbie Cornish</th>\n",
       "      <td>A Good Year</td>\n",
       "      <td>8</td>\n",
       "      <td>Fox</td>\n",
       "      <td>1982-08-07</td>\n",
       "      <td>0.0</td>\n",
       "      <td>2006-11-10</td>\n",
       "      <td>35000000.0</td>\n",
       "      <td>7459300.0</td>\n",
       "      <td>42064105.0</td>\n",
       "    </tr>\n",
       "  </tbody>\n",
       "</table>\n",
       "</div>"
      ],
      "text/plain": [
       "                          title  rank studio        bday  male release_date  \\\n",
       "actor                                                                         \n",
       "Aaron Eckhart  Any Given Sunday     3     WB  1968-03-12   1.0   1999-12-22   \n",
       "Aaron Johnson     Anna Karenina     7  Focus  1990-06-13   1.0   2012-11-16   \n",
       "Abbie Cornish       A Good Year     8    Fox  1982-08-07   0.0   2006-11-10   \n",
       "\n",
       "               production_budget  domestic_gross  worldwide_gross  \n",
       "actor                                                              \n",
       "Aaron Eckhart         60000000.0      75530832.0      100230832.0  \n",
       "Aaron Johnson         49000000.0      12816367.0       71004627.0  \n",
       "Abbie Cornish         35000000.0       7459300.0       42064105.0  "
      ]
     },
     "execution_count": 19,
     "metadata": {},
     "output_type": "execute_result"
    }
   ],
   "source": [
    "# select the first row in each group\n",
    "# The .head() is just so the printed dataframe doesn't fill the screen - it is optional\n",
    "actors.first().head(3)"
   ]
  },
  {
   "cell_type": "code",
   "execution_count": 20,
   "metadata": {
    "collapsed": false
   },
   "outputs": [
    {
     "data": {
      "text/html": [
       "<div>\n",
       "<table border=\"1\" class=\"dataframe\">\n",
       "  <thead>\n",
       "    <tr style=\"text-align: right;\">\n",
       "      <th></th>\n",
       "      <th>title</th>\n",
       "      <th>rank</th>\n",
       "      <th>studio</th>\n",
       "      <th>bday</th>\n",
       "      <th>male</th>\n",
       "      <th>release_date</th>\n",
       "      <th>production_budget</th>\n",
       "      <th>domestic_gross</th>\n",
       "      <th>worldwide_gross</th>\n",
       "    </tr>\n",
       "    <tr>\n",
       "      <th>actor</th>\n",
       "      <th></th>\n",
       "      <th></th>\n",
       "      <th></th>\n",
       "      <th></th>\n",
       "      <th></th>\n",
       "      <th></th>\n",
       "      <th></th>\n",
       "      <th></th>\n",
       "      <th></th>\n",
       "    </tr>\n",
       "  </thead>\n",
       "  <tbody>\n",
       "    <tr>\n",
       "      <th>Aaron Eckhart</th>\n",
       "      <td>The Pledge</td>\n",
       "      <td>13</td>\n",
       "      <td>WB</td>\n",
       "      <td>1968-03-12</td>\n",
       "      <td>1.0</td>\n",
       "      <td>2001-01-19</td>\n",
       "      <td>45000000.0</td>\n",
       "      <td>19719930.0</td>\n",
       "      <td>29406132.0</td>\n",
       "    </tr>\n",
       "    <tr>\n",
       "      <th>Aaron Johnson</th>\n",
       "      <td>The Illusionist</td>\n",
       "      <td>9999999999999</td>\n",
       "      <td>YFG</td>\n",
       "      <td>1990-06-13</td>\n",
       "      <td>1.0</td>\n",
       "      <td>2006-08-18</td>\n",
       "      <td>16500000.0</td>\n",
       "      <td>39868642.0</td>\n",
       "      <td>83792062.0</td>\n",
       "    </tr>\n",
       "    <tr>\n",
       "      <th>Abbie Cornish</th>\n",
       "      <td>Sucker Punch</td>\n",
       "      <td>4</td>\n",
       "      <td>WB</td>\n",
       "      <td>1982-08-07</td>\n",
       "      <td>0.0</td>\n",
       "      <td>2011-03-25</td>\n",
       "      <td>75000000.0</td>\n",
       "      <td>36392502.0</td>\n",
       "      <td>89758389.0</td>\n",
       "    </tr>\n",
       "  </tbody>\n",
       "</table>\n",
       "</div>"
      ],
      "text/plain": [
       "                         title           rank studio        bday  male  \\\n",
       "actor                                                                    \n",
       "Aaron Eckhart       The Pledge             13     WB  1968-03-12   1.0   \n",
       "Aaron Johnson  The Illusionist  9999999999999    YFG  1990-06-13   1.0   \n",
       "Abbie Cornish     Sucker Punch              4     WB  1982-08-07   0.0   \n",
       "\n",
       "              release_date  production_budget  domestic_gross  worldwide_gross  \n",
       "actor                                                                           \n",
       "Aaron Eckhart   2001-01-19         45000000.0      19719930.0       29406132.0  \n",
       "Aaron Johnson   2006-08-18         16500000.0      39868642.0       83792062.0  \n",
       "Abbie Cornish   2011-03-25         75000000.0      36392502.0       89758389.0  "
      ]
     },
     "execution_count": 20,
     "metadata": {},
     "output_type": "execute_result"
    }
   ],
   "source": [
    "# select the last row in each group\n",
    "actors.last().head(3)"
   ]
  },
  {
   "cell_type": "markdown",
   "metadata": {},
   "source": [
    "What you should see from the two results above is that for each actor, we are getting different results in the rest of the columns, as expected."
   ]
  },
  {
   "cell_type": "code",
   "execution_count": 21,
   "metadata": {
    "collapsed": false
   },
   "outputs": [
    {
     "data": {
      "text/html": [
       "<div>\n",
       "<table border=\"1\" class=\"dataframe\">\n",
       "  <thead>\n",
       "    <tr style=\"text-align: right;\">\n",
       "      <th></th>\n",
       "      <th>rank</th>\n",
       "      <th>male</th>\n",
       "      <th>production_budget</th>\n",
       "      <th>domestic_gross</th>\n",
       "      <th>worldwide_gross</th>\n",
       "    </tr>\n",
       "    <tr>\n",
       "      <th>actor</th>\n",
       "      <th></th>\n",
       "      <th></th>\n",
       "      <th></th>\n",
       "      <th></th>\n",
       "      <th></th>\n",
       "    </tr>\n",
       "  </thead>\n",
       "  <tbody>\n",
       "    <tr>\n",
       "      <th>Aaron Eckhart</th>\n",
       "      <td>1.209524e+01</td>\n",
       "      <td>1.0</td>\n",
       "      <td>5.087976e+07</td>\n",
       "      <td>6.033282e+07</td>\n",
       "      <td>1.171763e+08</td>\n",
       "    </tr>\n",
       "    <tr>\n",
       "      <th>Aaron Johnson</th>\n",
       "      <td>1.111111e+12</td>\n",
       "      <td>1.0</td>\n",
       "      <td>4.271111e+07</td>\n",
       "      <td>4.884212e+07</td>\n",
       "      <td>1.134827e+08</td>\n",
       "    </tr>\n",
       "    <tr>\n",
       "      <th>Abbie Cornish</th>\n",
       "      <td>5.000000e+00</td>\n",
       "      <td>0.0</td>\n",
       "      <td>5.100000e+07</td>\n",
       "      <td>3.156147e+07</td>\n",
       "      <td>8.960463e+07</td>\n",
       "    </tr>\n",
       "    <tr>\n",
       "      <th>Abigail Breslin</th>\n",
       "      <td>9.823529e+00</td>\n",
       "      <td>0.0</td>\n",
       "      <td>3.700604e+07</td>\n",
       "      <td>5.992972e+07</td>\n",
       "      <td>1.025613e+08</td>\n",
       "    </tr>\n",
       "    <tr>\n",
       "      <th>Adam Brody</th>\n",
       "      <td>3.000000e+12</td>\n",
       "      <td>1.0</td>\n",
       "      <td>2.062500e+07</td>\n",
       "      <td>4.137886e+07</td>\n",
       "      <td>7.525851e+07</td>\n",
       "    </tr>\n",
       "  </tbody>\n",
       "</table>\n",
       "</div>"
      ],
      "text/plain": [
       "                         rank  male  production_budget  domestic_gross  \\\n",
       "actor                                                                    \n",
       "Aaron Eckhart    1.209524e+01   1.0       5.087976e+07    6.033282e+07   \n",
       "Aaron Johnson    1.111111e+12   1.0       4.271111e+07    4.884212e+07   \n",
       "Abbie Cornish    5.000000e+00   0.0       5.100000e+07    3.156147e+07   \n",
       "Abigail Breslin  9.823529e+00   0.0       3.700604e+07    5.992972e+07   \n",
       "Adam Brody       3.000000e+12   1.0       2.062500e+07    4.137886e+07   \n",
       "\n",
       "                 worldwide_gross  \n",
       "actor                             \n",
       "Aaron Eckhart       1.171763e+08  \n",
       "Aaron Johnson       1.134827e+08  \n",
       "Abbie Cornish       8.960463e+07  \n",
       "Abigail Breslin     1.025613e+08  \n",
       "Adam Brody          7.525851e+07  "
      ]
     },
     "execution_count": 21,
     "metadata": {},
     "output_type": "execute_result"
    }
   ],
   "source": [
    "# take the mean of all rows for each group\n",
    "# columns which you can't take the mean of will automatically be dropped\n",
    "actors.mean().head()"
   ]
  },
  {
   "cell_type": "code",
   "execution_count": 22,
   "metadata": {
    "collapsed": false
   },
   "outputs": [
    {
     "data": {
      "text/html": [
       "<div>\n",
       "<table border=\"1\" class=\"dataframe\">\n",
       "  <thead>\n",
       "    <tr style=\"text-align: right;\">\n",
       "      <th></th>\n",
       "      <th>bday</th>\n",
       "      <th>domestic_gross</th>\n",
       "      <th>male</th>\n",
       "      <th>production_budget</th>\n",
       "      <th>rank</th>\n",
       "      <th>release_date</th>\n",
       "      <th>studio</th>\n",
       "      <th>title</th>\n",
       "      <th>worldwide_gross</th>\n",
       "    </tr>\n",
       "  </thead>\n",
       "  <tbody>\n",
       "    <tr>\n",
       "      <th>597</th>\n",
       "      <td>1968-03-12</td>\n",
       "      <td>75530832.0</td>\n",
       "      <td>1.0</td>\n",
       "      <td>60000000.0</td>\n",
       "      <td>3</td>\n",
       "      <td>1999-12-22</td>\n",
       "      <td>WB</td>\n",
       "      <td>Any Given Sunday</td>\n",
       "      <td>100230832.0</td>\n",
       "    </tr>\n",
       "    <tr>\n",
       "      <th>831</th>\n",
       "      <td>1968-03-12</td>\n",
       "      <td>83552429.0</td>\n",
       "      <td>1.0</td>\n",
       "      <td>70000000.0</td>\n",
       "      <td>5</td>\n",
       "      <td>2011-03-11</td>\n",
       "      <td>Sony</td>\n",
       "      <td>Battle: Los Angeles</td>\n",
       "      <td>213463976.0</td>\n",
       "    </tr>\n",
       "    <tr>\n",
       "      <th>1610</th>\n",
       "      <td>1968-03-12</td>\n",
       "      <td>379418.0</td>\n",
       "      <td>1.0</td>\n",
       "      <td>450000.0</td>\n",
       "      <td>24</td>\n",
       "      <td>2006-08-11</td>\n",
       "      <td>Fabr.</td>\n",
       "      <td>Conversations with Other Women</td>\n",
       "      <td>1297745.0</td>\n",
       "    </tr>\n",
       "  </tbody>\n",
       "</table>\n",
       "</div>"
      ],
      "text/plain": [
       "            bday  domestic_gross  male  production_budget  rank release_date  \\\n",
       "597   1968-03-12      75530832.0   1.0         60000000.0     3   1999-12-22   \n",
       "831   1968-03-12      83552429.0   1.0         70000000.0     5   2011-03-11   \n",
       "1610  1968-03-12        379418.0   1.0           450000.0    24   2006-08-11   \n",
       "\n",
       "     studio                           title  worldwide_gross  \n",
       "597      WB                Any Given Sunday      100230832.0  \n",
       "831    Sony             Battle: Los Angeles      213463976.0  \n",
       "1610  Fabr.  Conversations with Other Women        1297745.0  "
      ]
     },
     "execution_count": 22,
     "metadata": {},
     "output_type": "execute_result"
    }
   ],
   "source": [
    "# get a group by name\n",
    "actors.get_group('Aaron Eckhart').head(3)"
   ]
  },
  {
   "cell_type": "code",
   "execution_count": 23,
   "metadata": {
    "collapsed": false
   },
   "outputs": [
    {
     "data": {
      "text/plain": [
       "actor\n",
       "Aaron Eckhart      21\n",
       "Aaron Johnson       9\n",
       "Abbie Cornish       9\n",
       "Abigail Breslin    17\n",
       "Adam Brody         10\n",
       "dtype: int64"
      ]
     },
     "execution_count": 23,
     "metadata": {},
     "output_type": "execute_result"
    }
   ],
   "source": [
    "# calling size() on a groupby object will return the number of rows each group contains\n",
    "actors.size().head()"
   ]
  },
  {
   "cell_type": "code",
   "execution_count": 24,
   "metadata": {
    "collapsed": false
   },
   "outputs": [
    {
     "data": {
      "text/html": [
       "<div>\n",
       "<table border=\"1\" class=\"dataframe\">\n",
       "  <thead>\n",
       "    <tr>\n",
       "      <th></th>\n",
       "      <th colspan=\"5\" halign=\"left\">domestic_gross</th>\n",
       "      <th colspan=\"5\" halign=\"left\">worldwide_gross</th>\n",
       "    </tr>\n",
       "    <tr>\n",
       "      <th></th>\n",
       "      <th>mean</th>\n",
       "      <th>count</th>\n",
       "      <th>std</th>\n",
       "      <th>min</th>\n",
       "      <th>max</th>\n",
       "      <th>mean</th>\n",
       "      <th>count</th>\n",
       "      <th>std</th>\n",
       "      <th>min</th>\n",
       "      <th>max</th>\n",
       "    </tr>\n",
       "    <tr>\n",
       "      <th>actor</th>\n",
       "      <th></th>\n",
       "      <th></th>\n",
       "      <th></th>\n",
       "      <th></th>\n",
       "      <th></th>\n",
       "      <th></th>\n",
       "      <th></th>\n",
       "      <th></th>\n",
       "      <th></th>\n",
       "      <th></th>\n",
       "    </tr>\n",
       "  </thead>\n",
       "  <tbody>\n",
       "    <tr>\n",
       "      <th>Aaron Eckhart</th>\n",
       "      <td>6.033282e+07</td>\n",
       "      <td>21</td>\n",
       "      <td>1.138151e+08</td>\n",
       "      <td>17396.0</td>\n",
       "      <td>533345358.0</td>\n",
       "      <td>1.171763e+08</td>\n",
       "      <td>21</td>\n",
       "      <td>2.158466e+08</td>\n",
       "      <td>17396.0</td>\n",
       "      <td>1.002891e+09</td>\n",
       "    </tr>\n",
       "    <tr>\n",
       "      <th>Aaron Johnson</th>\n",
       "      <td>4.884212e+07</td>\n",
       "      <td>9</td>\n",
       "      <td>6.081880e+07</td>\n",
       "      <td>115862.0</td>\n",
       "      <td>200672193.0</td>\n",
       "      <td>1.134827e+08</td>\n",
       "      <td>9</td>\n",
       "      <td>1.596594e+08</td>\n",
       "      <td>117796.0</td>\n",
       "      <td>5.290722e+08</td>\n",
       "    </tr>\n",
       "    <tr>\n",
       "      <th>Abbie Cornish</th>\n",
       "      <td>3.156147e+07</td>\n",
       "      <td>9</td>\n",
       "      <td>2.706417e+07</td>\n",
       "      <td>4444637.0</td>\n",
       "      <td>79249455.0</td>\n",
       "      <td>8.960463e+07</td>\n",
       "      <td>9</td>\n",
       "      <td>7.701140e+07</td>\n",
       "      <td>11229035.0</td>\n",
       "      <td>2.429818e+08</td>\n",
       "    </tr>\n",
       "    <tr>\n",
       "      <th>Abigail Breslin</th>\n",
       "      <td>5.992972e+07</td>\n",
       "      <td>17</td>\n",
       "      <td>5.285277e+07</td>\n",
       "      <td>187112.0</td>\n",
       "      <td>227965690.0</td>\n",
       "      <td>1.025613e+08</td>\n",
       "      <td>17</td>\n",
       "      <td>9.785130e+07</td>\n",
       "      <td>597989.0</td>\n",
       "      <td>4.082657e+08</td>\n",
       "    </tr>\n",
       "    <tr>\n",
       "      <th>Adam Brody</th>\n",
       "      <td>4.137886e+07</td>\n",
       "      <td>10</td>\n",
       "      <td>5.263487e+07</td>\n",
       "      <td>769726.0</td>\n",
       "      <td>145096820.0</td>\n",
       "      <td>7.525851e+07</td>\n",
       "      <td>10</td>\n",
       "      <td>1.056659e+08</td>\n",
       "      <td>786677.0</td>\n",
       "      <td>2.865000e+08</td>\n",
       "    </tr>\n",
       "    <tr>\n",
       "      <th>Adam DeVine</th>\n",
       "      <td>1.243933e+08</td>\n",
       "      <td>2</td>\n",
       "      <td>8.399320e+07</td>\n",
       "      <td>65001093.0</td>\n",
       "      <td>183785415.0</td>\n",
       "      <td>2.015199e+08</td>\n",
       "      <td>2</td>\n",
       "      <td>1.208806e+08</td>\n",
       "      <td>116044347.0</td>\n",
       "      <td>2.869954e+08</td>\n",
       "    </tr>\n",
       "    <tr>\n",
       "      <th>Adam Sandler</th>\n",
       "      <td>9.154979e+07</td>\n",
       "      <td>28</td>\n",
       "      <td>5.320617e+07</td>\n",
       "      <td>9975684.0</td>\n",
       "      <td>169700110.0</td>\n",
       "      <td>1.618510e+08</td>\n",
       "      <td>28</td>\n",
       "      <td>1.110394e+08</td>\n",
       "      <td>9975684.0</td>\n",
       "      <td>4.693845e+08</td>\n",
       "    </tr>\n",
       "    <tr>\n",
       "      <th>Adrianne Palicki</th>\n",
       "      <td>8.366492e+07</td>\n",
       "      <td>2</td>\n",
       "      <td>5.495371e+07</td>\n",
       "      <td>44806783.0</td>\n",
       "      <td>122523060.0</td>\n",
       "      <td>2.100436e+08</td>\n",
       "      <td>2</td>\n",
       "      <td>2.289321e+08</td>\n",
       "      <td>48164150.0</td>\n",
       "      <td>3.719231e+08</td>\n",
       "    </tr>\n",
       "    <tr>\n",
       "      <th>Adrien Brody</th>\n",
       "      <td>4.229720e+07</td>\n",
       "      <td>15</td>\n",
       "      <td>5.760924e+07</td>\n",
       "      <td>12836.0</td>\n",
       "      <td>218080025.0</td>\n",
       "      <td>1.039203e+08</td>\n",
       "      <td>15</td>\n",
       "      <td>1.465820e+08</td>\n",
       "      <td>12836.0</td>\n",
       "      <td>5.505174e+08</td>\n",
       "    </tr>\n",
       "    <tr>\n",
       "      <th>Aimee Teegarden</th>\n",
       "      <td>2.415557e+07</td>\n",
       "      <td>2</td>\n",
       "      <td>1.983485e+07</td>\n",
       "      <td>10130219.0</td>\n",
       "      <td>38180928.0</td>\n",
       "      <td>5.337639e+07</td>\n",
       "      <td>2</td>\n",
       "      <td>6.026417e+07</td>\n",
       "      <td>10763183.0</td>\n",
       "      <td>9.598959e+07</td>\n",
       "    </tr>\n",
       "  </tbody>\n",
       "</table>\n",
       "</div>"
      ],
      "text/plain": [
       "                 domestic_gross                                               \\\n",
       "                           mean count           std         min          max   \n",
       "actor                                                                          \n",
       "Aaron Eckhart      6.033282e+07    21  1.138151e+08     17396.0  533345358.0   \n",
       "Aaron Johnson      4.884212e+07     9  6.081880e+07    115862.0  200672193.0   \n",
       "Abbie Cornish      3.156147e+07     9  2.706417e+07   4444637.0   79249455.0   \n",
       "Abigail Breslin    5.992972e+07    17  5.285277e+07    187112.0  227965690.0   \n",
       "Adam Brody         4.137886e+07    10  5.263487e+07    769726.0  145096820.0   \n",
       "Adam DeVine        1.243933e+08     2  8.399320e+07  65001093.0  183785415.0   \n",
       "Adam Sandler       9.154979e+07    28  5.320617e+07   9975684.0  169700110.0   \n",
       "Adrianne Palicki   8.366492e+07     2  5.495371e+07  44806783.0  122523060.0   \n",
       "Adrien Brody       4.229720e+07    15  5.760924e+07     12836.0  218080025.0   \n",
       "Aimee Teegarden    2.415557e+07     2  1.983485e+07  10130219.0   38180928.0   \n",
       "\n",
       "                 worldwide_gross                                   \\\n",
       "                            mean count           std          min   \n",
       "actor                                                               \n",
       "Aaron Eckhart       1.171763e+08    21  2.158466e+08      17396.0   \n",
       "Aaron Johnson       1.134827e+08     9  1.596594e+08     117796.0   \n",
       "Abbie Cornish       8.960463e+07     9  7.701140e+07   11229035.0   \n",
       "Abigail Breslin     1.025613e+08    17  9.785130e+07     597989.0   \n",
       "Adam Brody          7.525851e+07    10  1.056659e+08     786677.0   \n",
       "Adam DeVine         2.015199e+08     2  1.208806e+08  116044347.0   \n",
       "Adam Sandler        1.618510e+08    28  1.110394e+08    9975684.0   \n",
       "Adrianne Palicki    2.100436e+08     2  2.289321e+08   48164150.0   \n",
       "Adrien Brody        1.039203e+08    15  1.465820e+08      12836.0   \n",
       "Aimee Teegarden     5.337639e+07     2  6.026417e+07   10763183.0   \n",
       "\n",
       "                                \n",
       "                           max  \n",
       "actor                           \n",
       "Aaron Eckhart     1.002891e+09  \n",
       "Aaron Johnson     5.290722e+08  \n",
       "Abbie Cornish     2.429818e+08  \n",
       "Abigail Breslin   4.082657e+08  \n",
       "Adam Brody        2.865000e+08  \n",
       "Adam DeVine       2.869954e+08  \n",
       "Adam Sandler      4.693845e+08  \n",
       "Adrianne Palicki  3.719231e+08  \n",
       "Adrien Brody      5.505174e+08  \n",
       "Aimee Teegarden   9.598959e+07  "
      ]
     },
     "execution_count": 24,
     "metadata": {},
     "output_type": "execute_result"
    }
   ],
   "source": [
    "# agg() can take a list of functions\n",
    "# It makes a new column and applies them to each group in a groupby\n",
    "actors['domestic_gross','worldwide_gross'].agg(['mean','count','std','min','max']).head(10)\n",
    "# Note that you end up with a multi-index, which we will cover later"
   ]
  },
  {
   "cell_type": "code",
   "execution_count": 25,
   "metadata": {
    "collapsed": false
   },
   "outputs": [
    {
     "data": {
      "text/plain": [
       "100000000.0"
      ]
     },
     "execution_count": 25,
     "metadata": {},
     "output_type": "execute_result"
    }
   ],
   "source": [
    "1e8"
   ]
  },
  {
   "cell_type": "code",
   "execution_count": 26,
   "metadata": {
    "collapsed": false
   },
   "outputs": [
    {
     "name": "stdout",
     "output_type": "stream",
     "text": [
      "False \n",
      "                   title         actor           rank studio        bday  male  \\\n",
      "0  (500) Days of Summer  Chloe Moretz             11   FoxS  1997-02-10   0.0   \n",
      "1  (500) Days of Summer   Clark Gregg              7   FoxS  1962-04-02   1.0   \n",
      "2  (500) Days of Summer   Minka Kelly  9999999999999   FoxS  1980-06-24   0.0   \n",
      "\n",
      "  release_date  production_budget  domestic_gross  worldwide_gross  \n",
      "0   2009-07-17          7500000.0      32391374.0       59101642.0  \n",
      "1   2009-07-17          7500000.0      32391374.0       59101642.0  \n",
      "2   2009-07-17          7500000.0      32391374.0       59101642.0  \n",
      "* * *\n",
      "True \n",
      "                title                 actor  rank studio        bday  male  \\\n",
      "5     102 Dalmatians           Glenn Close     7     BV  1947-03-19   0.0   \n",
      "6     102 Dalmatians         Ioan Gruffudd     4     BV  1973-10-06   1.0   \n",
      "12  12 Years a Slave  Benedict Cumberbatch     8   FoxS  1976-07-19   1.0   \n",
      "\n",
      "   release_date  production_budget  domestic_gross  worldwide_gross  \n",
      "5    2000-11-22         85000000.0      66941559.0       66941559.0  \n",
      "6    2000-11-22         85000000.0      66941559.0       66941559.0  \n",
      "12   2013-10-18         20000000.0      56671993.0      181025343.0  \n",
      "* * *\n"
     ]
    }
   ],
   "source": [
    "# this example illustrates 2 things:\n",
    "# 1) grouping based on a conditional statement (i.e. is divisible by 3)\n",
    "# 2) iterating through groups in a groupby\n",
    "for name, group in df.groupby(df.worldwide_gross%3==0):\n",
    "    print(name, '\\n', group.head(3))\n",
    "    print('* * *')"
   ]
  },
  {
   "cell_type": "markdown",
   "metadata": {},
   "source": [
    "# Datatypes: type and dtype\n",
    "\n",
    "* It is always worth keeping track of what the datatypes are in your dataframe\n",
    "* Pandas provides a number of functions to manage this:"
   ]
  },
  {
   "cell_type": "code",
   "execution_count": 27,
   "metadata": {
    "collapsed": false
   },
   "outputs": [
    {
     "data": {
      "text/html": [
       "<div>\n",
       "<table border=\"1\" class=\"dataframe\">\n",
       "  <thead>\n",
       "    <tr style=\"text-align: right;\">\n",
       "      <th></th>\n",
       "      <th>title</th>\n",
       "      <th>actor</th>\n",
       "      <th>rank</th>\n",
       "      <th>studio</th>\n",
       "      <th>bday</th>\n",
       "      <th>male</th>\n",
       "      <th>release_date</th>\n",
       "      <th>production_budget</th>\n",
       "      <th>domestic_gross</th>\n",
       "      <th>worldwide_gross</th>\n",
       "    </tr>\n",
       "  </thead>\n",
       "  <tbody>\n",
       "    <tr>\n",
       "      <th>0</th>\n",
       "      <td>(500) Days of Summer</td>\n",
       "      <td>Chloe Moretz</td>\n",
       "      <td>11</td>\n",
       "      <td>FoxS</td>\n",
       "      <td>1997-02-10</td>\n",
       "      <td>0.0</td>\n",
       "      <td>2009-07-17</td>\n",
       "      <td>7500000.0</td>\n",
       "      <td>32391374.0</td>\n",
       "      <td>59101642.0</td>\n",
       "    </tr>\n",
       "    <tr>\n",
       "      <th>1</th>\n",
       "      <td>(500) Days of Summer</td>\n",
       "      <td>Clark Gregg</td>\n",
       "      <td>7</td>\n",
       "      <td>FoxS</td>\n",
       "      <td>1962-04-02</td>\n",
       "      <td>1.0</td>\n",
       "      <td>2009-07-17</td>\n",
       "      <td>7500000.0</td>\n",
       "      <td>32391374.0</td>\n",
       "      <td>59101642.0</td>\n",
       "    </tr>\n",
       "  </tbody>\n",
       "</table>\n",
       "</div>"
      ],
      "text/plain": [
       "                  title         actor  rank studio        bday  male  \\\n",
       "0  (500) Days of Summer  Chloe Moretz    11   FoxS  1997-02-10   0.0   \n",
       "1  (500) Days of Summer   Clark Gregg     7   FoxS  1962-04-02   1.0   \n",
       "\n",
       "  release_date  production_budget  domestic_gross  worldwide_gross  \n",
       "0   2009-07-17          7500000.0      32391374.0       59101642.0  \n",
       "1   2009-07-17          7500000.0      32391374.0       59101642.0  "
      ]
     },
     "execution_count": 27,
     "metadata": {},
     "output_type": "execute_result"
    }
   ],
   "source": [
    "# Review what the dataframe looks like:\n",
    "df.head(2)"
   ]
  },
  {
   "cell_type": "code",
   "execution_count": 28,
   "metadata": {
    "collapsed": false
   },
   "outputs": [
    {
     "name": "stdout",
     "output_type": "stream",
     "text": [
      "<class 'pandas.core.frame.DataFrame'>\n",
      "RangeIndex: 9342 entries, 0 to 9341\n",
      "Data columns (total 10 columns):\n",
      "title                9342 non-null object\n",
      "actor                9342 non-null object\n",
      "rank                 9342 non-null int64\n",
      "studio               9342 non-null object\n",
      "bday                 9342 non-null object\n",
      "male                 9342 non-null float64\n",
      "release_date         9342 non-null object\n",
      "production_budget    9342 non-null float64\n",
      "domestic_gross       9342 non-null float64\n",
      "worldwide_gross      9342 non-null float64\n",
      "dtypes: float64(4), int64(1), object(5)\n",
      "memory usage: 729.9+ KB\n"
     ]
    }
   ],
   "source": [
    "# the info function provides an overview of the datatypes of each column\n",
    "df.info()"
   ]
  },
  {
   "cell_type": "code",
   "execution_count": 29,
   "metadata": {
    "collapsed": false
   },
   "outputs": [
    {
     "data": {
      "text/html": [
       "<div>\n",
       "<table border=\"1\" class=\"dataframe\">\n",
       "  <thead>\n",
       "    <tr style=\"text-align: right;\">\n",
       "      <th></th>\n",
       "      <th>title</th>\n",
       "      <th>actor</th>\n",
       "      <th>rank</th>\n",
       "      <th>studio</th>\n",
       "      <th>bday</th>\n",
       "      <th>male</th>\n",
       "      <th>release_date</th>\n",
       "      <th>production_budget</th>\n",
       "      <th>domestic_gross</th>\n",
       "      <th>worldwide_gross</th>\n",
       "    </tr>\n",
       "  </thead>\n",
       "  <tbody>\n",
       "    <tr>\n",
       "      <th>0</th>\n",
       "      <td>(500) Days of Summer</td>\n",
       "      <td>Chloe Moretz</td>\n",
       "      <td>11</td>\n",
       "      <td>FoxS</td>\n",
       "      <td>1997-02-10</td>\n",
       "      <td>0.0</td>\n",
       "      <td>2009-07-17</td>\n",
       "      <td>7500000.0</td>\n",
       "      <td>32391374.0</td>\n",
       "      <td>59101642.0</td>\n",
       "    </tr>\n",
       "    <tr>\n",
       "      <th>1</th>\n",
       "      <td>(500) Days of Summer</td>\n",
       "      <td>Clark Gregg</td>\n",
       "      <td>7</td>\n",
       "      <td>FoxS</td>\n",
       "      <td>1962-04-02</td>\n",
       "      <td>1.0</td>\n",
       "      <td>2009-07-17</td>\n",
       "      <td>7500000.0</td>\n",
       "      <td>32391374.0</td>\n",
       "      <td>59101642.0</td>\n",
       "    </tr>\n",
       "  </tbody>\n",
       "</table>\n",
       "</div>"
      ],
      "text/plain": [
       "                  title         actor rank studio        bday male  \\\n",
       "0  (500) Days of Summer  Chloe Moretz   11   FoxS  1997-02-10  0.0   \n",
       "1  (500) Days of Summer   Clark Gregg    7   FoxS  1962-04-02  1.0   \n",
       "\n",
       "  release_date production_budget domestic_gross worldwide_gross  \n",
       "0   2009-07-17         7500000.0     32391374.0      59101642.0  \n",
       "1   2009-07-17         7500000.0     32391374.0      59101642.0  "
      ]
     },
     "execution_count": 29,
     "metadata": {},
     "output_type": "execute_result"
    }
   ],
   "source": [
    "# you can change datatypes by using the pandas.DataFrame.astype function\n",
    "# which casts to a numpy dtype - in this case we convert everything in the df to a string\n",
    "df_string = df.astype('str')\n",
    "df_string.head(2)"
   ]
  },
  {
   "cell_type": "code",
   "execution_count": 30,
   "metadata": {
    "collapsed": false
   },
   "outputs": [
    {
     "name": "stdout",
     "output_type": "stream",
     "text": [
      "<class 'pandas.core.frame.DataFrame'>\n",
      "RangeIndex: 9342 entries, 0 to 9341\n",
      "Data columns (total 10 columns):\n",
      "title                9342 non-null object\n",
      "actor                9342 non-null object\n",
      "rank                 9342 non-null object\n",
      "studio               9342 non-null object\n",
      "bday                 9342 non-null object\n",
      "male                 9342 non-null object\n",
      "release_date         9342 non-null object\n",
      "production_budget    9342 non-null object\n",
      "domestic_gross       9342 non-null object\n",
      "worldwide_gross      9342 non-null object\n",
      "dtypes: object(10)\n",
      "memory usage: 729.9+ KB\n"
     ]
    }
   ],
   "source": [
    "df_string.info()"
   ]
  },
  {
   "cell_type": "code",
   "execution_count": 31,
   "metadata": {
    "collapsed": false
   },
   "outputs": [],
   "source": [
    "# but we are limited in what we can do, since if we tried to convert a string to \n",
    "# an integer or floating point number, it throws an error"
   ]
  },
  {
   "cell_type": "markdown",
   "metadata": {},
   "source": [
    "## pd.to_numeric()\n",
    "\n",
    "Converts a series, array or dataframe to a numeric datatype"
   ]
  },
  {
   "cell_type": "code",
   "execution_count": 32,
   "metadata": {
    "collapsed": false
   },
   "outputs": [
    {
     "data": {
      "text/html": [
       "<div>\n",
       "<table border=\"1\" class=\"dataframe\">\n",
       "  <thead>\n",
       "    <tr style=\"text-align: right;\">\n",
       "      <th></th>\n",
       "      <th>a</th>\n",
       "      <th>b</th>\n",
       "    </tr>\n",
       "  </thead>\n",
       "  <tbody>\n",
       "    <tr>\n",
       "      <th>0</th>\n",
       "      <td>2</td>\n",
       "      <td>8</td>\n",
       "    </tr>\n",
       "    <tr>\n",
       "      <th>1</th>\n",
       "      <td>9</td>\n",
       "      <td>1</td>\n",
       "    </tr>\n",
       "    <tr>\n",
       "      <th>2</th>\n",
       "      <td>8</td>\n",
       "      <td>4</td>\n",
       "    </tr>\n",
       "    <tr>\n",
       "      <th>3</th>\n",
       "      <td>5</td>\n",
       "      <td>3</td>\n",
       "    </tr>\n",
       "    <tr>\n",
       "      <th>4</th>\n",
       "      <td>7</td>\n",
       "      <td>0</td>\n",
       "    </tr>\n",
       "  </tbody>\n",
       "</table>\n",
       "</div>"
      ],
      "text/plain": [
       "   a  b\n",
       "0  2  8\n",
       "1  9  1\n",
       "2  8  4\n",
       "3  5  3\n",
       "4  7  0"
      ]
     },
     "execution_count": 32,
     "metadata": {},
     "output_type": "execute_result"
    }
   ],
   "source": [
    "# example Dataframe of numbers-as-strings\n",
    "num_example = pd.DataFrame(data=list(zip(list('298576'),list('814309'))),columns=['a','b'])\n",
    "num_example.head()"
   ]
  },
  {
   "cell_type": "code",
   "execution_count": 33,
   "metadata": {
    "collapsed": false
   },
   "outputs": [
    {
     "data": {
      "text/plain": [
       "0    28\n",
       "1    91\n",
       "2    84\n",
       "3    53\n",
       "4    70\n",
       "5    69\n",
       "dtype: object"
      ]
     },
     "execution_count": 33,
     "metadata": {},
     "output_type": "execute_result"
    }
   ],
   "source": [
    "# if you add columns a and b, they're just concatenated together\n",
    "num_example.a + num_example.b"
   ]
  },
  {
   "cell_type": "code",
   "execution_count": 34,
   "metadata": {
    "collapsed": false
   },
   "outputs": [
    {
     "data": {
      "text/html": [
       "<div>\n",
       "<table border=\"1\" class=\"dataframe\">\n",
       "  <thead>\n",
       "    <tr style=\"text-align: right;\">\n",
       "      <th></th>\n",
       "      <th>a</th>\n",
       "      <th>b</th>\n",
       "    </tr>\n",
       "  </thead>\n",
       "  <tbody>\n",
       "    <tr>\n",
       "      <th>0</th>\n",
       "      <td>2</td>\n",
       "      <td>8</td>\n",
       "    </tr>\n",
       "    <tr>\n",
       "      <th>1</th>\n",
       "      <td>9</td>\n",
       "      <td>1</td>\n",
       "    </tr>\n",
       "    <tr>\n",
       "      <th>2</th>\n",
       "      <td>8</td>\n",
       "      <td>4</td>\n",
       "    </tr>\n",
       "    <tr>\n",
       "      <th>3</th>\n",
       "      <td>5</td>\n",
       "      <td>3</td>\n",
       "    </tr>\n",
       "    <tr>\n",
       "      <th>4</th>\n",
       "      <td>7</td>\n",
       "      <td>0</td>\n",
       "    </tr>\n",
       "    <tr>\n",
       "      <th>5</th>\n",
       "      <td>6</td>\n",
       "      <td>9</td>\n",
       "    </tr>\n",
       "  </tbody>\n",
       "</table>\n",
       "</div>"
      ],
      "text/plain": [
       "   a  b\n",
       "0  2  8\n",
       "1  9  1\n",
       "2  8  4\n",
       "3  5  3\n",
       "4  7  0\n",
       "5  6  9"
      ]
     },
     "execution_count": 34,
     "metadata": {},
     "output_type": "execute_result"
    }
   ],
   "source": [
    "# apply pd.to_numeric across the whole dataframe to convert everything to numeric values\n",
    "num_numeric = num_example.apply(pd.to_numeric)\n",
    "num_numeric"
   ]
  },
  {
   "cell_type": "code",
   "execution_count": 35,
   "metadata": {
    "collapsed": false
   },
   "outputs": [
    {
     "data": {
      "text/plain": [
       "0    10\n",
       "1    10\n",
       "2    12\n",
       "3     8\n",
       "4     7\n",
       "5    15\n",
       "dtype: int64"
      ]
     },
     "execution_count": 35,
     "metadata": {},
     "output_type": "execute_result"
    }
   ],
   "source": [
    "# now adding the columns gives you the sum\n",
    "num_numeric.a + num_numeric.b"
   ]
  },
  {
   "cell_type": "code",
   "execution_count": 36,
   "metadata": {
    "collapsed": false
   },
   "outputs": [
    {
     "name": "stdout",
     "output_type": "stream",
     "text": [
      "False \n",
      "    a  b\n",
      "1  9  1\n",
      "3  5  3\n",
      "4  7  0\n",
      "* * *\n",
      "True \n",
      "    a  b\n",
      "0  2  8\n",
      "2  8  4\n",
      "5  6  9\n",
      "* * *\n"
     ]
    }
   ],
   "source": [
    "# this example illustrates 2 things:\n",
    "# 1) grouping based on a conditional statement (i.e. is an even number)\n",
    "# 2) iterating through groups in a groupby\n",
    "for name, group in num_numeric.groupby(num_numeric.a%2==0):\n",
    "    print(name, '\\n', group)\n",
    "    print('* * *')"
   ]
  },
  {
   "cell_type": "markdown",
   "metadata": {},
   "source": [
    "# Working with Timestamps and Datetime"
   ]
  },
  {
   "cell_type": "code",
   "execution_count": 37,
   "metadata": {
    "collapsed": false
   },
   "outputs": [
    {
     "data": {
      "text/html": [
       "<div>\n",
       "<table border=\"1\" class=\"dataframe\">\n",
       "  <thead>\n",
       "    <tr style=\"text-align: right;\">\n",
       "      <th></th>\n",
       "      <th>title</th>\n",
       "      <th>actor</th>\n",
       "      <th>rank</th>\n",
       "      <th>studio</th>\n",
       "      <th>bday</th>\n",
       "      <th>male</th>\n",
       "      <th>release_date</th>\n",
       "      <th>production_budget</th>\n",
       "      <th>domestic_gross</th>\n",
       "      <th>worldwide_gross</th>\n",
       "    </tr>\n",
       "  </thead>\n",
       "  <tbody>\n",
       "    <tr>\n",
       "      <th>0</th>\n",
       "      <td>(500) Days of Summer</td>\n",
       "      <td>Chloe Moretz</td>\n",
       "      <td>11</td>\n",
       "      <td>FoxS</td>\n",
       "      <td>1997-02-10</td>\n",
       "      <td>0.0</td>\n",
       "      <td>2009-07-17</td>\n",
       "      <td>7500000.0</td>\n",
       "      <td>32391374.0</td>\n",
       "      <td>59101642.0</td>\n",
       "    </tr>\n",
       "    <tr>\n",
       "      <th>1</th>\n",
       "      <td>(500) Days of Summer</td>\n",
       "      <td>Clark Gregg</td>\n",
       "      <td>7</td>\n",
       "      <td>FoxS</td>\n",
       "      <td>1962-04-02</td>\n",
       "      <td>1.0</td>\n",
       "      <td>2009-07-17</td>\n",
       "      <td>7500000.0</td>\n",
       "      <td>32391374.0</td>\n",
       "      <td>59101642.0</td>\n",
       "    </tr>\n",
       "    <tr>\n",
       "      <th>2</th>\n",
       "      <td>(500) Days of Summer</td>\n",
       "      <td>Minka Kelly</td>\n",
       "      <td>9999999999999</td>\n",
       "      <td>FoxS</td>\n",
       "      <td>1980-06-24</td>\n",
       "      <td>0.0</td>\n",
       "      <td>2009-07-17</td>\n",
       "      <td>7500000.0</td>\n",
       "      <td>32391374.0</td>\n",
       "      <td>59101642.0</td>\n",
       "    </tr>\n",
       "  </tbody>\n",
       "</table>\n",
       "</div>"
      ],
      "text/plain": [
       "                  title         actor           rank studio        bday  male  \\\n",
       "0  (500) Days of Summer  Chloe Moretz             11   FoxS  1997-02-10   0.0   \n",
       "1  (500) Days of Summer   Clark Gregg              7   FoxS  1962-04-02   1.0   \n",
       "2  (500) Days of Summer   Minka Kelly  9999999999999   FoxS  1980-06-24   0.0   \n",
       "\n",
       "  release_date  production_budget  domestic_gross  worldwide_gross  \n",
       "0   2009-07-17          7500000.0      32391374.0       59101642.0  \n",
       "1   2009-07-17          7500000.0      32391374.0       59101642.0  \n",
       "2   2009-07-17          7500000.0      32391374.0       59101642.0  "
      ]
     },
     "execution_count": 37,
     "metadata": {},
     "output_type": "execute_result"
    }
   ],
   "source": [
    "# Let's look at our dataframe again\n",
    "df.head(3)"
   ]
  },
  {
   "cell_type": "code",
   "execution_count": 38,
   "metadata": {
    "collapsed": false
   },
   "outputs": [
    {
     "data": {
      "text/plain": [
       "dtype('O')"
      ]
     },
     "execution_count": 38,
     "metadata": {},
     "output_type": "execute_result"
    }
   ],
   "source": [
    "# what is the data type (dtype) of the bday column?\n",
    "df.bday.dtype"
   ]
  },
  {
   "cell_type": "code",
   "execution_count": 39,
   "metadata": {
    "collapsed": false
   },
   "outputs": [
    {
     "data": {
      "text/plain": [
       "str"
      ]
     },
     "execution_count": 39,
     "metadata": {},
     "output_type": "execute_result"
    }
   ],
   "source": [
    "# or check the dtype of the first element\n",
    "type(df.bday[0])"
   ]
  },
  {
   "cell_type": "markdown",
   "metadata": {},
   "source": [
    "## pd.to_datetime"
   ]
  },
  {
   "cell_type": "code",
   "execution_count": 40,
   "metadata": {
    "collapsed": true
   },
   "outputs": [],
   "source": [
    "# convert the columns of date-time strings to pandas Timestamp objects\n",
    "# we don't use .apply here because we only want to change these 2 specified columns\n",
    "for datetime_col in ['bday', 'release_date']:\n",
    "    df[datetime_col] = pd.to_datetime(df[datetime_col])"
   ]
  },
  {
   "cell_type": "code",
   "execution_count": 41,
   "metadata": {
    "collapsed": false
   },
   "outputs": [
    {
     "data": {
      "text/plain": [
       "dtype('<M8[ns]')"
      ]
     },
     "execution_count": 41,
     "metadata": {},
     "output_type": "execute_result"
    }
   ],
   "source": [
    "df.bday.dtype"
   ]
  },
  {
   "cell_type": "code",
   "execution_count": 42,
   "metadata": {
    "collapsed": false
   },
   "outputs": [
    {
     "data": {
      "text/plain": [
       "pandas.tslib.Timestamp"
      ]
     },
     "execution_count": 42,
     "metadata": {},
     "output_type": "execute_result"
    }
   ],
   "source": [
    "type(df.bday[0])"
   ]
  },
  {
   "cell_type": "markdown",
   "metadata": {},
   "source": [
    "## Instant converstion to day/month/year with\n",
    "\n",
    "** `pd.Series.dt.<day/month/year/second/etc...>` **"
   ]
  },
  {
   "cell_type": "code",
   "execution_count": 43,
   "metadata": {
    "collapsed": false
   },
   "outputs": [
    {
     "name": "stdout",
     "output_type": "stream",
     "text": [
      "years [1997 1962 1980 1984 1947 1973 1974 1976 1959 1977 1963 1983 1966 1967 1978\n",
      " 1979 1948 1975 1955 1943 1972 1969 1985 1987 1952 1954 1971 1946 1961 1981\n",
      " 1960 1968 1970 1982 1964 1958 1989 1986 1996 1951 1992 1942 1965 1953 1940\n",
      " 1929 1950 1937 1933 1936 1930 1931 1934 1938 1956 1957 1939 1949 1944 1990\n",
      " 1998 1926 1988 1991 2003 1935 1924 1945 1928 1994 1999 1875 1993 1925 1922\n",
      " 1995]\n"
     ]
    }
   ],
   "source": [
    "print('years', df.bday.dt.year.unique())"
   ]
  },
  {
   "cell_type": "code",
   "execution_count": 44,
   "metadata": {
    "collapsed": false
   },
   "outputs": [
    {
     "data": {
      "text/html": [
       "<div>\n",
       "<table border=\"1\" class=\"dataframe\">\n",
       "  <thead>\n",
       "    <tr style=\"text-align: right;\">\n",
       "      <th></th>\n",
       "      <th>title</th>\n",
       "      <th>actor</th>\n",
       "      <th>rank</th>\n",
       "      <th>studio</th>\n",
       "      <th>bday</th>\n",
       "      <th>male</th>\n",
       "      <th>release_date</th>\n",
       "      <th>production_budget</th>\n",
       "      <th>domestic_gross</th>\n",
       "      <th>worldwide_gross</th>\n",
       "    </tr>\n",
       "  </thead>\n",
       "  <tbody>\n",
       "    <tr>\n",
       "      <th>0</th>\n",
       "      <td>(500) Days of Summer</td>\n",
       "      <td>Chloe Moretz</td>\n",
       "      <td>11</td>\n",
       "      <td>FoxS</td>\n",
       "      <td>1997-02-10</td>\n",
       "      <td>0.0</td>\n",
       "      <td>2009-07-17</td>\n",
       "      <td>7500000.0</td>\n",
       "      <td>32391374.0</td>\n",
       "      <td>59101642.0</td>\n",
       "    </tr>\n",
       "    <tr>\n",
       "      <th>85</th>\n",
       "      <td>3 Days to Kill</td>\n",
       "      <td>Hailee Steinfeld</td>\n",
       "      <td>4</td>\n",
       "      <td>Rela.</td>\n",
       "      <td>1996-12-11</td>\n",
       "      <td>0.0</td>\n",
       "      <td>2014-02-21</td>\n",
       "      <td>28000000.0</td>\n",
       "      <td>30697999.0</td>\n",
       "      <td>38959900.0</td>\n",
       "    </tr>\n",
       "  </tbody>\n",
       "</table>\n",
       "</div>"
      ],
      "text/plain": [
       "                   title             actor  rank studio       bday  male  \\\n",
       "0   (500) Days of Summer      Chloe Moretz    11   FoxS 1997-02-10   0.0   \n",
       "85        3 Days to Kill  Hailee Steinfeld     4  Rela. 1996-12-11   0.0   \n",
       "\n",
       "   release_date  production_budget  domestic_gross  worldwide_gross  \n",
       "0    2009-07-17          7500000.0      32391374.0       59101642.0  \n",
       "85   2014-02-21         28000000.0      30697999.0       38959900.0  "
      ]
     },
     "execution_count": 44,
     "metadata": {},
     "output_type": "execute_result"
    }
   ],
   "source": [
    "# this doesn't work:\n",
    "# df[df.bday > 1995]\n",
    "\n",
    "# so instead you can compare to a Timestamp or other datetime object\n",
    "df[df.bday > pd.to_datetime('1-1-1995')].head(2)"
   ]
  },
  {
   "cell_type": "code",
   "execution_count": 45,
   "metadata": {
    "collapsed": false
   },
   "outputs": [
    {
     "data": {
      "text/html": [
       "<div>\n",
       "<table border=\"1\" class=\"dataframe\">\n",
       "  <thead>\n",
       "    <tr style=\"text-align: right;\">\n",
       "      <th></th>\n",
       "      <th>title</th>\n",
       "      <th>actor</th>\n",
       "      <th>rank</th>\n",
       "      <th>studio</th>\n",
       "      <th>bday</th>\n",
       "      <th>male</th>\n",
       "      <th>release_date</th>\n",
       "      <th>production_budget</th>\n",
       "      <th>domestic_gross</th>\n",
       "      <th>worldwide_gross</th>\n",
       "    </tr>\n",
       "  </thead>\n",
       "  <tbody>\n",
       "    <tr>\n",
       "      <th>0</th>\n",
       "      <td>(500) Days of Summer</td>\n",
       "      <td>Chloe Moretz</td>\n",
       "      <td>11</td>\n",
       "      <td>FoxS</td>\n",
       "      <td>1997-02-10</td>\n",
       "      <td>0.0</td>\n",
       "      <td>2009-07-17</td>\n",
       "      <td>7500000.0</td>\n",
       "      <td>32391374.0</td>\n",
       "      <td>59101642.0</td>\n",
       "    </tr>\n",
       "    <tr>\n",
       "      <th>85</th>\n",
       "      <td>3 Days to Kill</td>\n",
       "      <td>Hailee Steinfeld</td>\n",
       "      <td>4</td>\n",
       "      <td>Rela.</td>\n",
       "      <td>1996-12-11</td>\n",
       "      <td>0.0</td>\n",
       "      <td>2014-02-21</td>\n",
       "      <td>28000000.0</td>\n",
       "      <td>30697999.0</td>\n",
       "      <td>38959900.0</td>\n",
       "    </tr>\n",
       "  </tbody>\n",
       "</table>\n",
       "</div>"
      ],
      "text/plain": [
       "                   title             actor  rank studio       bday  male  \\\n",
       "0   (500) Days of Summer      Chloe Moretz    11   FoxS 1997-02-10   0.0   \n",
       "85        3 Days to Kill  Hailee Steinfeld     4  Rela. 1996-12-11   0.0   \n",
       "\n",
       "   release_date  production_budget  domestic_gross  worldwide_gross  \n",
       "0    2009-07-17          7500000.0      32391374.0       59101642.0  \n",
       "85   2014-02-21         28000000.0      30697999.0       38959900.0  "
      ]
     },
     "execution_count": 45,
     "metadata": {},
     "output_type": "execute_result"
    }
   ],
   "source": [
    "# or, use the .dt syntax:\n",
    "df[df.bday.dt.year > 1995].head(2)"
   ]
  },
  {
   "cell_type": "code",
   "execution_count": 46,
   "metadata": {
    "collapsed": true
   },
   "outputs": [],
   "source": [
    "# Pitfall!\n",
    "# when you want to select using multiple conditions, watch out for this pandas pitfall\n",
    "# (this doesn't work:)\n",
    "# df[2000 > df.bday.dt.year > 1995].head()"
   ]
  },
  {
   "cell_type": "code",
   "execution_count": 47,
   "metadata": {
    "collapsed": true
   },
   "outputs": [],
   "source": [
    "# Pitfall!\n",
    "# Instead, use the bitwise and (&) operator. However...\n",
    "# (this doesn't work either):\n",
    "# df[2000 > df.bday.dt.year & df.bday.dt.year > 1995].head()\n",
    "# Instead, use the bitwise and (&) operator. However...\n",
    "# (this doesn't work either):\n",
    "# df[2000 > df.bday.dt.year & df.bday.dt.year > 1995].head()"
   ]
  },
  {
   "cell_type": "markdown",
   "metadata": {},
   "source": [
    "## Since the '&' operator has a really high precedence in the order of operations, be sure to enclose each condition in parentheses\n",
    "\n",
    "Eg: `2000 > df.bday.dt.year & df.bday.dt.year > 1995` is evaluated the same as\n",
    "\n",
    "`2000 > (df.bday.dt.year & df.bday.td.year) > 1995`"
   ]
  },
  {
   "cell_type": "code",
   "execution_count": 48,
   "metadata": {
    "collapsed": false
   },
   "outputs": [
    {
     "data": {
      "text/html": [
       "<div>\n",
       "<table border=\"1\" class=\"dataframe\">\n",
       "  <thead>\n",
       "    <tr style=\"text-align: right;\">\n",
       "      <th></th>\n",
       "      <th>title</th>\n",
       "      <th>actor</th>\n",
       "      <th>rank</th>\n",
       "      <th>studio</th>\n",
       "      <th>bday</th>\n",
       "      <th>male</th>\n",
       "      <th>release_date</th>\n",
       "      <th>production_budget</th>\n",
       "      <th>domestic_gross</th>\n",
       "      <th>worldwide_gross</th>\n",
       "    </tr>\n",
       "  </thead>\n",
       "  <tbody>\n",
       "    <tr>\n",
       "      <th>0</th>\n",
       "      <td>(500) Days of Summer</td>\n",
       "      <td>Chloe Moretz</td>\n",
       "      <td>11</td>\n",
       "      <td>FoxS</td>\n",
       "      <td>1997-02-10</td>\n",
       "      <td>0.0</td>\n",
       "      <td>2009-07-17</td>\n",
       "      <td>7500000.0</td>\n",
       "      <td>32391374.0</td>\n",
       "      <td>59101642.0</td>\n",
       "    </tr>\n",
       "    <tr>\n",
       "      <th>85</th>\n",
       "      <td>3 Days to Kill</td>\n",
       "      <td>Hailee Steinfeld</td>\n",
       "      <td>4</td>\n",
       "      <td>Rela.</td>\n",
       "      <td>1996-12-11</td>\n",
       "      <td>0.0</td>\n",
       "      <td>2014-02-21</td>\n",
       "      <td>28000000.0</td>\n",
       "      <td>30697999.0</td>\n",
       "      <td>38959900.0</td>\n",
       "    </tr>\n",
       "    <tr>\n",
       "      <th>307</th>\n",
       "      <td>After Earth</td>\n",
       "      <td>Jaden Smith</td>\n",
       "      <td>4</td>\n",
       "      <td>Sony</td>\n",
       "      <td>1998-07-08</td>\n",
       "      <td>1.0</td>\n",
       "      <td>2013-05-31</td>\n",
       "      <td>130000000.0</td>\n",
       "      <td>60522097.0</td>\n",
       "      <td>251499665.0</td>\n",
       "    </tr>\n",
       "  </tbody>\n",
       "</table>\n",
       "</div>"
      ],
      "text/plain": [
       "                    title             actor  rank studio       bday  male  \\\n",
       "0    (500) Days of Summer      Chloe Moretz    11   FoxS 1997-02-10   0.0   \n",
       "85         3 Days to Kill  Hailee Steinfeld     4  Rela. 1996-12-11   0.0   \n",
       "307           After Earth       Jaden Smith     4   Sony 1998-07-08   1.0   \n",
       "\n",
       "    release_date  production_budget  domestic_gross  worldwide_gross  \n",
       "0     2009-07-17          7500000.0      32391374.0       59101642.0  \n",
       "85    2014-02-21         28000000.0      30697999.0       38959900.0  \n",
       "307   2013-05-31        130000000.0      60522097.0      251499665.0  "
      ]
     },
     "execution_count": 48,
     "metadata": {},
     "output_type": "execute_result"
    }
   ],
   "source": [
    "# select birthdays between 1995 and 2000, non-inclusive\n",
    "df[(2000 > df.bday.dt.year) & (df.bday.dt.year > 1995)].head(3)"
   ]
  },
  {
   "cell_type": "code",
   "execution_count": 49,
   "metadata": {
    "collapsed": false
   },
   "outputs": [
    {
     "data": {
      "text/html": [
       "<div>\n",
       "<table border=\"1\" class=\"dataframe\">\n",
       "  <thead>\n",
       "    <tr style=\"text-align: right;\">\n",
       "      <th></th>\n",
       "      <th>title</th>\n",
       "      <th>actor</th>\n",
       "      <th>rank</th>\n",
       "      <th>studio</th>\n",
       "      <th>bday</th>\n",
       "      <th>male</th>\n",
       "      <th>release_date</th>\n",
       "      <th>production_budget</th>\n",
       "      <th>domestic_gross</th>\n",
       "      <th>worldwide_gross</th>\n",
       "      <th>release_month</th>\n",
       "    </tr>\n",
       "  </thead>\n",
       "  <tbody>\n",
       "    <tr>\n",
       "      <th>0</th>\n",
       "      <td>(500) Days of Summer</td>\n",
       "      <td>Chloe Moretz</td>\n",
       "      <td>11</td>\n",
       "      <td>FoxS</td>\n",
       "      <td>1997-02-10</td>\n",
       "      <td>0.0</td>\n",
       "      <td>2009-07-17</td>\n",
       "      <td>7500000.0</td>\n",
       "      <td>32391374.0</td>\n",
       "      <td>59101642.0</td>\n",
       "      <td>7</td>\n",
       "    </tr>\n",
       "    <tr>\n",
       "      <th>1</th>\n",
       "      <td>(500) Days of Summer</td>\n",
       "      <td>Clark Gregg</td>\n",
       "      <td>7</td>\n",
       "      <td>FoxS</td>\n",
       "      <td>1962-04-02</td>\n",
       "      <td>1.0</td>\n",
       "      <td>2009-07-17</td>\n",
       "      <td>7500000.0</td>\n",
       "      <td>32391374.0</td>\n",
       "      <td>59101642.0</td>\n",
       "      <td>7</td>\n",
       "    </tr>\n",
       "    <tr>\n",
       "      <th>2</th>\n",
       "      <td>(500) Days of Summer</td>\n",
       "      <td>Minka Kelly</td>\n",
       "      <td>9999999999999</td>\n",
       "      <td>FoxS</td>\n",
       "      <td>1980-06-24</td>\n",
       "      <td>0.0</td>\n",
       "      <td>2009-07-17</td>\n",
       "      <td>7500000.0</td>\n",
       "      <td>32391374.0</td>\n",
       "      <td>59101642.0</td>\n",
       "      <td>7</td>\n",
       "    </tr>\n",
       "  </tbody>\n",
       "</table>\n",
       "</div>"
      ],
      "text/plain": [
       "                  title         actor           rank studio       bday  male  \\\n",
       "0  (500) Days of Summer  Chloe Moretz             11   FoxS 1997-02-10   0.0   \n",
       "1  (500) Days of Summer   Clark Gregg              7   FoxS 1962-04-02   1.0   \n",
       "2  (500) Days of Summer   Minka Kelly  9999999999999   FoxS 1980-06-24   0.0   \n",
       "\n",
       "  release_date  production_budget  domestic_gross  worldwide_gross  \\\n",
       "0   2009-07-17          7500000.0      32391374.0       59101642.0   \n",
       "1   2009-07-17          7500000.0      32391374.0       59101642.0   \n",
       "2   2009-07-17          7500000.0      32391374.0       59101642.0   \n",
       "\n",
       "   release_month  \n",
       "0              7  \n",
       "1              7  \n",
       "2              7  "
      ]
     },
     "execution_count": 49,
     "metadata": {},
     "output_type": "execute_result"
    }
   ],
   "source": [
    "# example of .dt.month\n",
    "# Note: you rarely need to add columns like this!! You can use .dt directly for a groupby or for a selection\n",
    "df2 = df.copy()\n",
    "df2['release_month'] = df2.release_date.dt.month\n",
    "df2.head(3)"
   ]
  },
  {
   "cell_type": "code",
   "execution_count": 50,
   "metadata": {
    "collapsed": false
   },
   "outputs": [
    {
     "data": {
      "text/html": [
       "<div>\n",
       "<table border=\"1\" class=\"dataframe\">\n",
       "  <thead>\n",
       "    <tr style=\"text-align: right;\">\n",
       "      <th></th>\n",
       "      <th>rank</th>\n",
       "      <th>male</th>\n",
       "      <th>production_budget</th>\n",
       "      <th>domestic_gross</th>\n",
       "      <th>worldwide_gross</th>\n",
       "    </tr>\n",
       "    <tr>\n",
       "      <th>release_date</th>\n",
       "      <th></th>\n",
       "      <th></th>\n",
       "      <th></th>\n",
       "      <th></th>\n",
       "      <th></th>\n",
       "    </tr>\n",
       "  </thead>\n",
       "  <tbody>\n",
       "    <tr>\n",
       "      <th>1</th>\n",
       "      <td>1195928753192</td>\n",
       "      <td>0.674300</td>\n",
       "      <td>3.260153e+07</td>\n",
       "      <td>3.810404e+07</td>\n",
       "      <td>7.400509e+07</td>\n",
       "    </tr>\n",
       "    <tr>\n",
       "      <th>2</th>\n",
       "      <td>1059027777788</td>\n",
       "      <td>0.635417</td>\n",
       "      <td>4.066693e+07</td>\n",
       "      <td>4.773956e+07</td>\n",
       "      <td>9.061837e+07</td>\n",
       "    </tr>\n",
       "    <tr>\n",
       "      <th>3</th>\n",
       "      <td>855614973272</td>\n",
       "      <td>0.664439</td>\n",
       "      <td>4.960052e+07</td>\n",
       "      <td>6.042128e+07</td>\n",
       "      <td>1.255552e+08</td>\n",
       "    </tr>\n",
       "  </tbody>\n",
       "</table>\n",
       "</div>"
      ],
      "text/plain": [
       "                       rank      male  production_budget  domestic_gross  \\\n",
       "release_date                                                               \n",
       "1             1195928753192  0.674300       3.260153e+07    3.810404e+07   \n",
       "2             1059027777788  0.635417       4.066693e+07    4.773956e+07   \n",
       "3              855614973272  0.664439       4.960052e+07    6.042128e+07   \n",
       "\n",
       "              worldwide_gross  \n",
       "release_date                   \n",
       "1                7.400509e+07  \n",
       "2                9.061837e+07  \n",
       "3                1.255552e+08  "
      ]
     },
     "execution_count": 50,
     "metadata": {},
     "output_type": "execute_result"
    }
   ],
   "source": [
    "monthly_mean = df.groupby(df.release_date.dt.month).mean()\n",
    "monthly_mean.head(3)"
   ]
  },
  {
   "cell_type": "code",
   "execution_count": 51,
   "metadata": {
    "collapsed": false
   },
   "outputs": [
    {
     "data": {
      "text/plain": [
       "<matplotlib.axes._subplots.AxesSubplot at 0x7f5ca8ca9c50>"
      ]
     },
     "execution_count": 51,
     "metadata": {},
     "output_type": "execute_result"
    },
    {
     "data": {
      "image/png": "[encoded data removed]",
      "text/plain": [
       "<matplotlib.figure.Figure at 0x7f5ca8c9ed68>"
      ]
     },
     "metadata": {},
     "output_type": "display_data"
    }
   ],
   "source": [
    "monthly_mean[['domestic_gross','worldwide_gross']].plot.bar(title='Mean monthly gross',figsize=(7,4))"
   ]
  },
  {
   "cell_type": "code",
   "execution_count": 52,
   "metadata": {
    "collapsed": false
   },
   "outputs": [
    {
     "data": {
      "text/plain": [
       "<matplotlib.axes._subplots.AxesSubplot at 0x7f5ca8c51ef0>"
      ]
     },
     "execution_count": 52,
     "metadata": {},
     "output_type": "execute_result"
    },
    {
     "data": {
      "image/png": "[encoded data removed]",
      "text/plain": [
       "<matplotlib.figure.Figure at 0x7f5ca8c12e48>"
      ]
     },
     "metadata": {},
     "output_type": "display_data"
    }
   ],
   "source": [
    "# you don't need to make a new column for a one-off\n",
    "(monthly_mean.domestic_gross / monthly_mean.worldwide_gross).plot.bar(title='Mean Domestic / Worldwide Gross Ratio by month')"
   ]
  },
  {
   "cell_type": "markdown",
   "metadata": {},
   "source": [
    "## Let's get month names on the x-axis instead using `calendar library`"
   ]
  },
  {
   "cell_type": "code",
   "execution_count": 53,
   "metadata": {
    "collapsed": false
   },
   "outputs": [
    {
     "name": "stdout",
     "output_type": "stream",
     "text": [
      "['January', 'February', 'March']\n",
      "['Jan', 'Feb', 'Mar']\n"
     ]
    }
   ],
   "source": [
    "import calendar\n",
    "\n",
    "# we have the option of full name of month, or abbreviated name\n",
    "print(calendar.month_name[1:4])\n",
    "print(calendar.month_abbr[1:4])"
   ]
  },
  {
   "cell_type": "code",
   "execution_count": 54,
   "metadata": {
    "collapsed": false
   },
   "outputs": [
    {
     "data": {
      "text/html": [
       "<div>\n",
       "<table border=\"1\" class=\"dataframe\">\n",
       "  <thead>\n",
       "    <tr style=\"text-align: right;\">\n",
       "      <th></th>\n",
       "      <th>rank</th>\n",
       "      <th>male</th>\n",
       "      <th>production_budget</th>\n",
       "      <th>domestic_gross</th>\n",
       "      <th>worldwide_gross</th>\n",
       "    </tr>\n",
       "  </thead>\n",
       "  <tbody>\n",
       "    <tr>\n",
       "      <th>Jan</th>\n",
       "      <td>1195928753192</td>\n",
       "      <td>0.674300</td>\n",
       "      <td>3.260153e+07</td>\n",
       "      <td>3.810404e+07</td>\n",
       "      <td>7.400509e+07</td>\n",
       "    </tr>\n",
       "    <tr>\n",
       "      <th>Feb</th>\n",
       "      <td>1059027777788</td>\n",
       "      <td>0.635417</td>\n",
       "      <td>4.066693e+07</td>\n",
       "      <td>4.773956e+07</td>\n",
       "      <td>9.061837e+07</td>\n",
       "    </tr>\n",
       "    <tr>\n",
       "      <th>Mar</th>\n",
       "      <td>855614973272</td>\n",
       "      <td>0.664439</td>\n",
       "      <td>4.960052e+07</td>\n",
       "      <td>6.042128e+07</td>\n",
       "      <td>1.255552e+08</td>\n",
       "    </tr>\n",
       "    <tr>\n",
       "      <th>Apr</th>\n",
       "      <td>1133720930244</td>\n",
       "      <td>0.635174</td>\n",
       "      <td>3.608773e+07</td>\n",
       "      <td>4.362819e+07</td>\n",
       "      <td>9.773371e+07</td>\n",
       "    </tr>\n",
       "    <tr>\n",
       "      <th>May</th>\n",
       "      <td>1255349500721</td>\n",
       "      <td>0.670471</td>\n",
       "      <td>8.347447e+07</td>\n",
       "      <td>1.177966e+08</td>\n",
       "      <td>2.914820e+08</td>\n",
       "    </tr>\n",
       "    <tr>\n",
       "      <th>Jun</th>\n",
       "      <td>1754601227000</td>\n",
       "      <td>0.693252</td>\n",
       "      <td>7.135558e+07</td>\n",
       "      <td>1.056504e+08</td>\n",
       "      <td>2.331871e+08</td>\n",
       "    </tr>\n",
       "    <tr>\n",
       "      <th>Jul</th>\n",
       "      <td>1550190597212</td>\n",
       "      <td>0.691233</td>\n",
       "      <td>6.919861e+07</td>\n",
       "      <td>1.067479e+08</td>\n",
       "      <td>2.508663e+08</td>\n",
       "    </tr>\n",
       "    <tr>\n",
       "      <th>Aug</th>\n",
       "      <td>1179487179497</td>\n",
       "      <td>0.685897</td>\n",
       "      <td>3.949550e+07</td>\n",
       "      <td>5.043031e+07</td>\n",
       "      <td>9.527081e+07</td>\n",
       "    </tr>\n",
       "    <tr>\n",
       "      <th>Sep</th>\n",
       "      <td>936675461754</td>\n",
       "      <td>0.646438</td>\n",
       "      <td>3.078705e+07</td>\n",
       "      <td>3.375987e+07</td>\n",
       "      <td>6.493184e+07</td>\n",
       "    </tr>\n",
       "    <tr>\n",
       "      <th>Oct</th>\n",
       "      <td>1147928994095</td>\n",
       "      <td>0.649704</td>\n",
       "      <td>3.106601e+07</td>\n",
       "      <td>3.545069e+07</td>\n",
       "      <td>7.204215e+07</td>\n",
       "    </tr>\n",
       "    <tr>\n",
       "      <th>Nov</th>\n",
       "      <td>1331133113321</td>\n",
       "      <td>0.695270</td>\n",
       "      <td>5.857765e+07</td>\n",
       "      <td>8.035767e+07</td>\n",
       "      <td>1.899561e+08</td>\n",
       "    </tr>\n",
       "    <tr>\n",
       "      <th>Dec</th>\n",
       "      <td>1408345752617</td>\n",
       "      <td>0.667660</td>\n",
       "      <td>5.358927e+07</td>\n",
       "      <td>7.840979e+07</td>\n",
       "      <td>1.848689e+08</td>\n",
       "    </tr>\n",
       "  </tbody>\n",
       "</table>\n",
       "</div>"
      ],
      "text/plain": [
       "              rank      male  production_budget  domestic_gross  \\\n",
       "Jan  1195928753192  0.674300       3.260153e+07    3.810404e+07   \n",
       "Feb  1059027777788  0.635417       4.066693e+07    4.773956e+07   \n",
       "Mar   855614973272  0.664439       4.960052e+07    6.042128e+07   \n",
       "Apr  1133720930244  0.635174       3.608773e+07    4.362819e+07   \n",
       "May  1255349500721  0.670471       8.347447e+07    1.177966e+08   \n",
       "Jun  1754601227000  0.693252       7.135558e+07    1.056504e+08   \n",
       "Jul  1550190597212  0.691233       6.919861e+07    1.067479e+08   \n",
       "Aug  1179487179497  0.685897       3.949550e+07    5.043031e+07   \n",
       "Sep   936675461754  0.646438       3.078705e+07    3.375987e+07   \n",
       "Oct  1147928994095  0.649704       3.106601e+07    3.545069e+07   \n",
       "Nov  1331133113321  0.695270       5.857765e+07    8.035767e+07   \n",
       "Dec  1408345752617  0.667660       5.358927e+07    7.840979e+07   \n",
       "\n",
       "     worldwide_gross  \n",
       "Jan     7.400509e+07  \n",
       "Feb     9.061837e+07  \n",
       "Mar     1.255552e+08  \n",
       "Apr     9.773371e+07  \n",
       "May     2.914820e+08  \n",
       "Jun     2.331871e+08  \n",
       "Jul     2.508663e+08  \n",
       "Aug     9.527081e+07  \n",
       "Sep     6.493184e+07  \n",
       "Oct     7.204215e+07  \n",
       "Nov     1.899561e+08  \n",
       "Dec     1.848689e+08  "
      ]
     },
     "execution_count": 54,
     "metadata": {},
     "output_type": "execute_result"
    }
   ],
   "source": [
    "# map over the index of using calendar's month names\n",
    "monthly_mean.index = monthly_mean.index.map(lambda x: calendar.month_abbr[x])\n",
    "monthly_mean"
   ]
  },
  {
   "cell_type": "code",
   "execution_count": 55,
   "metadata": {
    "collapsed": false
   },
   "outputs": [
    {
     "data": {
      "text/plain": [
       "<matplotlib.axes._subplots.AxesSubplot at 0x7f5ca6b85a58>"
      ]
     },
     "execution_count": 55,
     "metadata": {},
     "output_type": "execute_result"
    },
    {
     "data": {
      "image/png": "[encoded data removed]",
      "text/plain": [
       "<matplotlib.figure.Figure at 0x7f5ca904d7f0>"
      ]
     },
     "metadata": {},
     "output_type": "display_data"
    }
   ],
   "source": [
    "# now we have month abbreviations as x lables when we plot\n",
    "(monthly_mean.domestic_gross / monthly_mean.worldwide_gross).plot.bar(title='Mean Domestic/Wordwide Gross Ratio by month')"
   ]
  },
  {
   "cell_type": "markdown",
   "metadata": {},
   "source": [
    "## The resample method\n",
    "\n",
    "A convenient way to bin timeseries data\n",
    "\n",
    "**Warning:** resample only works with a Timestamp-indexed dataframe. You can always set your index to your datetime column of interest `df.set_index('datetime_column)` to make this work"
   ]
  },
  {
   "cell_type": "code",
   "execution_count": 56,
   "metadata": {
    "collapsed": false
   },
   "outputs": [
    {
     "data": {
      "text/html": [
       "<div>\n",
       "<table border=\"1\" class=\"dataframe\">\n",
       "  <thead>\n",
       "    <tr style=\"text-align: right;\">\n",
       "      <th></th>\n",
       "      <th>title</th>\n",
       "      <th>actor</th>\n",
       "      <th>rank</th>\n",
       "      <th>studio</th>\n",
       "      <th>bday</th>\n",
       "      <th>release_date</th>\n",
       "      <th>production_budget</th>\n",
       "      <th>domestic_gross</th>\n",
       "      <th>worldwide_gross</th>\n",
       "    </tr>\n",
       "  </thead>\n",
       "  <tbody>\n",
       "    <tr>\n",
       "      <th>5734</th>\n",
       "      <td>School Daze</td>\n",
       "      <td>Samuel L. Jackson</td>\n",
       "      <td>9999999999999</td>\n",
       "      <td>Col.</td>\n",
       "      <td>1948-12-21</td>\n",
       "      <td>1988-02-12</td>\n",
       "      <td>6000000.0</td>\n",
       "      <td>14545844.0</td>\n",
       "      <td>14545844.0</td>\n",
       "    </tr>\n",
       "    <tr>\n",
       "      <th>1933</th>\n",
       "      <td>Do the Right Thing</td>\n",
       "      <td>Samuel L. Jackson</td>\n",
       "      <td>9999999999999</td>\n",
       "      <td>Uni.</td>\n",
       "      <td>1948-12-21</td>\n",
       "      <td>1989-06-30</td>\n",
       "      <td>6000000.0</td>\n",
       "      <td>24289231.0</td>\n",
       "      <td>24289231.0</td>\n",
       "    </tr>\n",
       "    <tr>\n",
       "      <th>5785</th>\n",
       "      <td>Sea of Love</td>\n",
       "      <td>Samuel L. Jackson</td>\n",
       "      <td>9999999999999</td>\n",
       "      <td>Uni.</td>\n",
       "      <td>1948-12-21</td>\n",
       "      <td>1989-09-15</td>\n",
       "      <td>19000000.0</td>\n",
       "      <td>53350495.0</td>\n",
       "      <td>53350495.0</td>\n",
       "    </tr>\n",
       "    <tr>\n",
       "      <th>4491</th>\n",
       "      <td>Mo' Better Blues</td>\n",
       "      <td>Samuel L. Jackson</td>\n",
       "      <td>9999999999999</td>\n",
       "      <td>Uni.</td>\n",
       "      <td>1948-12-21</td>\n",
       "      <td>1990-08-03</td>\n",
       "      <td>10000000.0</td>\n",
       "      <td>16153000.0</td>\n",
       "      <td>16153000.0</td>\n",
       "    </tr>\n",
       "    <tr>\n",
       "      <th>2758</th>\n",
       "      <td>Goodfellas</td>\n",
       "      <td>Samuel L. Jackson</td>\n",
       "      <td>9999999999999</td>\n",
       "      <td>WB</td>\n",
       "      <td>1948-12-21</td>\n",
       "      <td>1990-09-19</td>\n",
       "      <td>25000000.0</td>\n",
       "      <td>46261759.0</td>\n",
       "      <td>46261759.0</td>\n",
       "    </tr>\n",
       "  </tbody>\n",
       "</table>\n",
       "</div>"
      ],
      "text/plain": [
       "                   title              actor           rank studio       bday  \\\n",
       "5734         School Daze  Samuel L. Jackson  9999999999999   Col. 1948-12-21   \n",
       "1933  Do the Right Thing  Samuel L. Jackson  9999999999999   Uni. 1948-12-21   \n",
       "5785         Sea of Love  Samuel L. Jackson  9999999999999   Uni. 1948-12-21   \n",
       "4491    Mo' Better Blues  Samuel L. Jackson  9999999999999   Uni. 1948-12-21   \n",
       "2758          Goodfellas  Samuel L. Jackson  9999999999999     WB 1948-12-21   \n",
       "\n",
       "     release_date  production_budget  domestic_gross  worldwide_gross  \n",
       "5734   1988-02-12          6000000.0      14545844.0       14545844.0  \n",
       "1933   1989-06-30          6000000.0      24289231.0       24289231.0  \n",
       "5785   1989-09-15         19000000.0      53350495.0       53350495.0  \n",
       "4491   1990-08-03         10000000.0      16153000.0       16153000.0  \n",
       "2758   1990-09-19         25000000.0      46261759.0       46261759.0  "
      ]
     },
     "execution_count": 56,
     "metadata": {},
     "output_type": "execute_result"
    }
   ],
   "source": [
    "# let's look at moves of a given actor, by year\n",
    "actor_df = df[df.actor=='Samuel L. Jackson'].drop('male', axis=1)\n",
    "actor_df.sort_values('release_date').head()"
   ]
  },
  {
   "cell_type": "code",
   "execution_count": 57,
   "metadata": {
    "collapsed": false
   },
   "outputs": [
    {
     "data": {
      "text/plain": [
       "<matplotlib.axes._subplots.AxesSubplot at 0x7f5ca6a78198>"
      ]
     },
     "execution_count": 57,
     "metadata": {},
     "output_type": "execute_result"
    },
    {
     "data": {
      "image/png": "[encoded data removed]",
      "text/plain": [
       "<matplotlib.figure.Figure at 0x7f5ca6afb828>"
      ]
     },
     "metadata": {},
     "output_type": "display_data"
    }
   ],
   "source": [
    "# visualize what the data looks like now: it's irregular by year\n",
    "actor_df.plot('release_date','production_budget')"
   ]
  },
  {
   "cell_type": "code",
   "execution_count": 58,
   "metadata": {
    "collapsed": false
   },
   "outputs": [
    {
     "data": {
      "text/html": [
       "<div>\n",
       "<table border=\"1\" class=\"dataframe\">\n",
       "  <thead>\n",
       "    <tr style=\"text-align: right;\">\n",
       "      <th></th>\n",
       "      <th>rank</th>\n",
       "      <th>production_budget</th>\n",
       "      <th>domestic_gross</th>\n",
       "      <th>worldwide_gross</th>\n",
       "    </tr>\n",
       "    <tr>\n",
       "      <th>release_date</th>\n",
       "      <th></th>\n",
       "      <th></th>\n",
       "      <th></th>\n",
       "      <th></th>\n",
       "    </tr>\n",
       "  </thead>\n",
       "  <tbody>\n",
       "    <tr>\n",
       "      <th>1988-01-01</th>\n",
       "      <td>1.000000e+13</td>\n",
       "      <td>6000000.0</td>\n",
       "      <td>14545844.0</td>\n",
       "      <td>14545844.0</td>\n",
       "    </tr>\n",
       "    <tr>\n",
       "      <th>1989-01-01</th>\n",
       "      <td>1.000000e+13</td>\n",
       "      <td>12500000.0</td>\n",
       "      <td>38819863.0</td>\n",
       "      <td>38819863.0</td>\n",
       "    </tr>\n",
       "    <tr>\n",
       "      <th>1990-01-01</th>\n",
       "      <td>1.000000e+13</td>\n",
       "      <td>17500000.0</td>\n",
       "      <td>31207379.5</td>\n",
       "      <td>31207379.5</td>\n",
       "    </tr>\n",
       "    <tr>\n",
       "      <th>1991-01-01</th>\n",
       "      <td>NaN</td>\n",
       "      <td>NaN</td>\n",
       "      <td>NaN</td>\n",
       "      <td>NaN</td>\n",
       "    </tr>\n",
       "    <tr>\n",
       "      <th>1992-01-01</th>\n",
       "      <td>1.000000e+13</td>\n",
       "      <td>45000000.0</td>\n",
       "      <td>83287363.0</td>\n",
       "      <td>178100000.0</td>\n",
       "    </tr>\n",
       "  </tbody>\n",
       "</table>\n",
       "</div>"
      ],
      "text/plain": [
       "                      rank  production_budget  domestic_gross  worldwide_gross\n",
       "release_date                                                                  \n",
       "1988-01-01    1.000000e+13          6000000.0      14545844.0       14545844.0\n",
       "1989-01-01    1.000000e+13         12500000.0      38819863.0       38819863.0\n",
       "1990-01-01    1.000000e+13         17500000.0      31207379.5       31207379.5\n",
       "1991-01-01             NaN                NaN             NaN              NaN\n",
       "1992-01-01    1.000000e+13         45000000.0      83287363.0      178100000.0"
      ]
     },
     "execution_count": 58,
     "metadata": {},
     "output_type": "execute_result"
    }
   ],
   "source": [
    "# take the mean of all the numerical columns\n",
    "actor_df.set_index('release_date').resample('AS').mean().head()"
   ]
  },
  {
   "cell_type": "markdown",
   "metadata": {},
   "source": [
    "### Note that by default, missing bins get replaced with a NaN row. This can be useful if you want to set a default value for the missing bins"
   ]
  },
  {
   "cell_type": "code",
   "execution_count": 59,
   "metadata": {
    "collapsed": false
   },
   "outputs": [
    {
     "data": {
      "text/html": [
       "<div>\n",
       "<table border=\"1\" class=\"dataframe\">\n",
       "  <thead>\n",
       "    <tr style=\"text-align: right;\">\n",
       "      <th></th>\n",
       "      <th>rank</th>\n",
       "      <th>production_budget</th>\n",
       "      <th>domestic_gross</th>\n",
       "      <th>worldwide_gross</th>\n",
       "    </tr>\n",
       "    <tr>\n",
       "      <th>release_date</th>\n",
       "      <th></th>\n",
       "      <th></th>\n",
       "      <th></th>\n",
       "      <th></th>\n",
       "    </tr>\n",
       "  </thead>\n",
       "  <tbody>\n",
       "    <tr>\n",
       "      <th>1988-01-01</th>\n",
       "      <td>1.000000e+13</td>\n",
       "      <td>6000000.0</td>\n",
       "      <td>14545844.0</td>\n",
       "      <td>14545844.0</td>\n",
       "    </tr>\n",
       "    <tr>\n",
       "      <th>1989-01-01</th>\n",
       "      <td>1.000000e+13</td>\n",
       "      <td>12500000.0</td>\n",
       "      <td>38819863.0</td>\n",
       "      <td>38819863.0</td>\n",
       "    </tr>\n",
       "    <tr>\n",
       "      <th>1990-01-01</th>\n",
       "      <td>1.000000e+13</td>\n",
       "      <td>17500000.0</td>\n",
       "      <td>31207379.5</td>\n",
       "      <td>31207379.5</td>\n",
       "    </tr>\n",
       "    <tr>\n",
       "      <th>1991-01-01</th>\n",
       "      <td>0.000000e+00</td>\n",
       "      <td>0.0</td>\n",
       "      <td>0.0</td>\n",
       "      <td>0.0</td>\n",
       "    </tr>\n",
       "    <tr>\n",
       "      <th>1992-01-01</th>\n",
       "      <td>1.000000e+13</td>\n",
       "      <td>45000000.0</td>\n",
       "      <td>83287363.0</td>\n",
       "      <td>178100000.0</td>\n",
       "    </tr>\n",
       "  </tbody>\n",
       "</table>\n",
       "</div>"
      ],
      "text/plain": [
       "                      rank  production_budget  domestic_gross  worldwide_gross\n",
       "release_date                                                                  \n",
       "1988-01-01    1.000000e+13          6000000.0      14545844.0       14545844.0\n",
       "1989-01-01    1.000000e+13         12500000.0      38819863.0       38819863.0\n",
       "1990-01-01    1.000000e+13         17500000.0      31207379.5       31207379.5\n",
       "1991-01-01    0.000000e+00                0.0             0.0              0.0\n",
       "1992-01-01    1.000000e+13         45000000.0      83287363.0      178100000.0"
      ]
     },
     "execution_count": 59,
     "metadata": {},
     "output_type": "execute_result"
    }
   ],
   "source": [
    "# same as above, but fill all NaNs with 0\n",
    "actor_df.set_index('release_date').resample('AS').mean().fillna(0).head()"
   ]
  },
  {
   "cell_type": "code",
   "execution_count": 60,
   "metadata": {
    "collapsed": false
   },
   "outputs": [
    {
     "data": {
      "text/html": [
       "<div>\n",
       "<table border=\"1\" class=\"dataframe\">\n",
       "  <thead>\n",
       "    <tr style=\"text-align: right;\">\n",
       "      <th></th>\n",
       "      <th>rank</th>\n",
       "      <th>production_budget</th>\n",
       "      <th>domestic_gross</th>\n",
       "      <th>worldwide_gross</th>\n",
       "    </tr>\n",
       "    <tr>\n",
       "      <th>release_date</th>\n",
       "      <th></th>\n",
       "      <th></th>\n",
       "      <th></th>\n",
       "      <th></th>\n",
       "    </tr>\n",
       "  </thead>\n",
       "  <tbody>\n",
       "    <tr>\n",
       "      <th>1988-01-01</th>\n",
       "      <td>1.000000e+13</td>\n",
       "      <td>1.850000e+07</td>\n",
       "      <td>3.964795e+07</td>\n",
       "      <td>5.545005e+07</td>\n",
       "    </tr>\n",
       "    <tr>\n",
       "      <th>1993-01-01</th>\n",
       "      <td>2.727273e+12</td>\n",
       "      <td>2.393636e+07</td>\n",
       "      <td>7.105578e+07</td>\n",
       "      <td>1.462092e+08</td>\n",
       "    </tr>\n",
       "    <tr>\n",
       "      <th>1998-01-01</th>\n",
       "      <td>1.000000e+12</td>\n",
       "      <td>5.027560e+07</td>\n",
       "      <td>4.919147e+07</td>\n",
       "      <td>8.413794e+07</td>\n",
       "    </tr>\n",
       "    <tr>\n",
       "      <th>2003-01-01</th>\n",
       "      <td>3.290909e+01</td>\n",
       "      <td>4.277273e+07</td>\n",
       "      <td>5.912338e+07</td>\n",
       "      <td>1.154025e+08</td>\n",
       "    </tr>\n",
       "    <tr>\n",
       "      <th>2008-01-01</th>\n",
       "      <td>2.727273e+12</td>\n",
       "      <td>9.595455e+07</td>\n",
       "      <td>1.294431e+08</td>\n",
       "      <td>2.701183e+08</td>\n",
       "    </tr>\n",
       "    <tr>\n",
       "      <th>2013-01-01</th>\n",
       "      <td>2.200000e+01</td>\n",
       "      <td>1.217500e+08</td>\n",
       "      <td>1.138697e+08</td>\n",
       "      <td>3.472769e+08</td>\n",
       "    </tr>\n",
       "  </tbody>\n",
       "</table>\n",
       "</div>"
      ],
      "text/plain": [
       "                      rank  production_budget  domestic_gross  worldwide_gross\n",
       "release_date                                                                  \n",
       "1988-01-01    1.000000e+13       1.850000e+07    3.964795e+07     5.545005e+07\n",
       "1993-01-01    2.727273e+12       2.393636e+07    7.105578e+07     1.462092e+08\n",
       "1998-01-01    1.000000e+12       5.027560e+07    4.919147e+07     8.413794e+07\n",
       "2003-01-01    3.290909e+01       4.277273e+07    5.912338e+07     1.154025e+08\n",
       "2008-01-01    2.727273e+12       9.595455e+07    1.294431e+08     2.701183e+08\n",
       "2013-01-01    2.200000e+01       1.217500e+08    1.138697e+08     3.472769e+08"
      ]
     },
     "execution_count": 60,
     "metadata": {},
     "output_type": "execute_result"
    }
   ],
   "source": [
    "# if we want 5-year bins instead, we can plug in a 5 to the resample \"rule\": '5AS'\n",
    "actor_df.set_index('release_date').resample('5AS').mean()"
   ]
  },
  {
   "cell_type": "markdown",
   "metadata": {},
   "source": [
    "## resample resolutions available [(via SO answer)](http://stackoverflow.com/a/17001474):\n",
    "\n",
    "    B       business day frequency\n",
    "    C       custom business day frequency (experimental)\n",
    "    D       calendar day frequency\n",
    "    W       weekly frequency\n",
    "    M       month end frequency\n",
    "    BM      business month end frequency\n",
    "    CBM     custom business month end frequency\n",
    "    MS      month start frequency\n",
    "    BMS     business month start frequency\n",
    "    CBMS    custom business month start frequency\n",
    "    Q       quarter end frequency\n",
    "    BQ      business quarter endfrequency\n",
    "    QS      quarter start frequency\n",
    "    BQS     business quarter start frequency\n",
    "    A       year end frequency\n",
    "    BA      business year end frequency\n",
    "    AS      year start frequency\n",
    "    BAS     business year start frequency\n",
    "    BH      business hour frequency\n",
    "    H       hourly frequency\n",
    "    T       minutely frequency\n",
    "    S       secondly frequency\n",
    "    L       milliseonds\n",
    "    U       microseconds\n",
    "    N       nanoseconds"
   ]
  },
  {
   "cell_type": "code",
   "execution_count": 61,
   "metadata": {
    "collapsed": false
   },
   "outputs": [
    {
     "data": {
      "text/html": [
       "<div>\n",
       "<table border=\"1\" class=\"dataframe\">\n",
       "  <thead>\n",
       "    <tr>\n",
       "      <th></th>\n",
       "      <th colspan=\"3\" halign=\"left\">rank</th>\n",
       "      <th colspan=\"3\" halign=\"left\">production_budget</th>\n",
       "      <th colspan=\"3\" halign=\"left\">domestic_gross</th>\n",
       "      <th colspan=\"3\" halign=\"left\">worldwide_gross</th>\n",
       "    </tr>\n",
       "    <tr>\n",
       "      <th></th>\n",
       "      <th>mean</th>\n",
       "      <th>count</th>\n",
       "      <th>sem</th>\n",
       "      <th>mean</th>\n",
       "      <th>count</th>\n",
       "      <th>sem</th>\n",
       "      <th>mean</th>\n",
       "      <th>count</th>\n",
       "      <th>sem</th>\n",
       "      <th>mean</th>\n",
       "      <th>count</th>\n",
       "      <th>sem</th>\n",
       "    </tr>\n",
       "    <tr>\n",
       "      <th>release_date</th>\n",
       "      <th></th>\n",
       "      <th></th>\n",
       "      <th></th>\n",
       "      <th></th>\n",
       "      <th></th>\n",
       "      <th></th>\n",
       "      <th></th>\n",
       "      <th></th>\n",
       "      <th></th>\n",
       "      <th></th>\n",
       "      <th></th>\n",
       "      <th></th>\n",
       "    </tr>\n",
       "  </thead>\n",
       "  <tbody>\n",
       "    <tr>\n",
       "      <th>1988-01-01</th>\n",
       "      <td>1.000000e+13</td>\n",
       "      <td>6</td>\n",
       "      <td>0.000000e+00</td>\n",
       "      <td>1.850000e+07</td>\n",
       "      <td>6</td>\n",
       "      <td>6.135960e+06</td>\n",
       "      <td>3.964795e+07</td>\n",
       "      <td>6</td>\n",
       "      <td>1.088412e+07</td>\n",
       "      <td>5.545005e+07</td>\n",
       "      <td>6</td>\n",
       "      <td>2.537732e+07</td>\n",
       "    </tr>\n",
       "    <tr>\n",
       "      <th>1993-01-01</th>\n",
       "      <td>2.727273e+12</td>\n",
       "      <td>11</td>\n",
       "      <td>1.408358e+12</td>\n",
       "      <td>2.393636e+07</td>\n",
       "      <td>11</td>\n",
       "      <td>7.175555e+06</td>\n",
       "      <td>7.105578e+07</td>\n",
       "      <td>11</td>\n",
       "      <td>3.427397e+07</td>\n",
       "      <td>1.462092e+08</td>\n",
       "      <td>11</td>\n",
       "      <td>9.151223e+07</td>\n",
       "    </tr>\n",
       "    <tr>\n",
       "      <th>1998-01-01</th>\n",
       "      <td>1.000000e+12</td>\n",
       "      <td>10</td>\n",
       "      <td>1.000000e+12</td>\n",
       "      <td>5.027560e+07</td>\n",
       "      <td>10</td>\n",
       "      <td>5.932781e+06</td>\n",
       "      <td>4.919147e+07</td>\n",
       "      <td>10</td>\n",
       "      <td>9.543079e+06</td>\n",
       "      <td>8.413794e+07</td>\n",
       "      <td>10</td>\n",
       "      <td>2.357590e+07</td>\n",
       "    </tr>\n",
       "    <tr>\n",
       "      <th>2003-01-01</th>\n",
       "      <td>3.290909e+01</td>\n",
       "      <td>11</td>\n",
       "      <td>4.909091e+00</td>\n",
       "      <td>4.277273e+07</td>\n",
       "      <td>11</td>\n",
       "      <td>7.540004e+06</td>\n",
       "      <td>5.912338e+07</td>\n",
       "      <td>11</td>\n",
       "      <td>2.268627e+07</td>\n",
       "      <td>1.154025e+08</td>\n",
       "      <td>11</td>\n",
       "      <td>5.307465e+07</td>\n",
       "    </tr>\n",
       "    <tr>\n",
       "      <th>2008-01-01</th>\n",
       "      <td>2.727273e+12</td>\n",
       "      <td>11</td>\n",
       "      <td>1.408358e+12</td>\n",
       "      <td>9.595455e+07</td>\n",
       "      <td>11</td>\n",
       "      <td>1.828343e+07</td>\n",
       "      <td>1.294431e+08</td>\n",
       "      <td>11</td>\n",
       "      <td>3.411070e+07</td>\n",
       "      <td>2.701183e+08</td>\n",
       "      <td>11</td>\n",
       "      <td>7.069114e+07</td>\n",
       "    </tr>\n",
       "  </tbody>\n",
       "</table>\n",
       "</div>"
      ],
      "text/plain": [
       "                      rank                     production_budget        \\\n",
       "                      mean count           sem              mean count   \n",
       "release_date                                                             \n",
       "1988-01-01    1.000000e+13     6  0.000000e+00      1.850000e+07     6   \n",
       "1993-01-01    2.727273e+12    11  1.408358e+12      2.393636e+07    11   \n",
       "1998-01-01    1.000000e+12    10  1.000000e+12      5.027560e+07    10   \n",
       "2003-01-01    3.290909e+01    11  4.909091e+00      4.277273e+07    11   \n",
       "2008-01-01    2.727273e+12    11  1.408358e+12      9.595455e+07    11   \n",
       "\n",
       "                           domestic_gross                     worldwide_gross  \\\n",
       "                       sem           mean count           sem            mean   \n",
       "release_date                                                                    \n",
       "1988-01-01    6.135960e+06   3.964795e+07     6  1.088412e+07    5.545005e+07   \n",
       "1993-01-01    7.175555e+06   7.105578e+07    11  3.427397e+07    1.462092e+08   \n",
       "1998-01-01    5.932781e+06   4.919147e+07    10  9.543079e+06    8.413794e+07   \n",
       "2003-01-01    7.540004e+06   5.912338e+07    11  2.268627e+07    1.154025e+08   \n",
       "2008-01-01    1.828343e+07   1.294431e+08    11  3.411070e+07    2.701183e+08   \n",
       "\n",
       "                                  \n",
       "             count           sem  \n",
       "release_date                      \n",
       "1988-01-01       6  2.537732e+07  \n",
       "1993-01-01      11  9.151223e+07  \n",
       "1998-01-01      10  2.357590e+07  \n",
       "2003-01-01      11  5.307465e+07  \n",
       "2008-01-01      11  7.069114e+07  "
      ]
     },
     "execution_count": 61,
     "metadata": {},
     "output_type": "execute_result"
    }
   ],
   "source": [
    "# let's say we want the mean, and also the count\n",
    "# we can pass a list of methods using 'apply'\n",
    "yr_bins = actor_df.set_index('release_date').resample('5AS').apply(['mean','count','sem'])\n",
    "yr_bins.head()"
   ]
  },
  {
   "cell_type": "code",
   "execution_count": 62,
   "metadata": {
    "collapsed": false
   },
   "outputs": [
    {
     "data": {
      "text/html": [
       "<div>\n",
       "<table border=\"1\" class=\"dataframe\">\n",
       "  <thead>\n",
       "    <tr>\n",
       "      <th></th>\n",
       "      <th colspan=\"2\" halign=\"left\">domestic_gross</th>\n",
       "      <th>worldwide_gross</th>\n",
       "      <th colspan=\"3\" halign=\"left\">production_budget</th>\n",
       "    </tr>\n",
       "    <tr>\n",
       "      <th></th>\n",
       "      <th>low</th>\n",
       "      <th>high</th>\n",
       "      <th>total</th>\n",
       "      <th>stdEm</th>\n",
       "      <th>avg</th>\n",
       "      <th>ct</th>\n",
       "    </tr>\n",
       "    <tr>\n",
       "      <th>release_date</th>\n",
       "      <th></th>\n",
       "      <th></th>\n",
       "      <th></th>\n",
       "      <th></th>\n",
       "      <th></th>\n",
       "      <th></th>\n",
       "    </tr>\n",
       "  </thead>\n",
       "  <tbody>\n",
       "    <tr>\n",
       "      <th>1988-01-01</th>\n",
       "      <td>14545844.0</td>\n",
       "      <td>83287363.0</td>\n",
       "      <td>3.327003e+08</td>\n",
       "      <td>6.135960e+06</td>\n",
       "      <td>1.850000e+07</td>\n",
       "      <td>6</td>\n",
       "    </tr>\n",
       "    <tr>\n",
       "      <th>1993-01-01</th>\n",
       "      <td>749741.0</td>\n",
       "      <td>395708305.0</td>\n",
       "      <td>1.608301e+09</td>\n",
       "      <td>7.175555e+06</td>\n",
       "      <td>2.393636e+07</td>\n",
       "      <td>11</td>\n",
       "    </tr>\n",
       "    <tr>\n",
       "      <th>1998-01-01</th>\n",
       "      <td>687081.0</td>\n",
       "      <td>94999143.0</td>\n",
       "      <td>8.413794e+08</td>\n",
       "      <td>5.932781e+06</td>\n",
       "      <td>5.027560e+07</td>\n",
       "      <td>10</td>\n",
       "    </tr>\n",
       "    <tr>\n",
       "      <th>2003-01-01</th>\n",
       "      <td>3172382.0</td>\n",
       "      <td>261441092.0</td>\n",
       "      <td>1.269428e+09</td>\n",
       "      <td>7.540004e+06</td>\n",
       "      <td>4.277273e+07</td>\n",
       "      <td>11</td>\n",
       "    </tr>\n",
       "    <tr>\n",
       "      <th>2008-01-01</th>\n",
       "      <td>1110509.0</td>\n",
       "      <td>318604126.0</td>\n",
       "      <td>2.971301e+09</td>\n",
       "      <td>1.828343e+07</td>\n",
       "      <td>9.595455e+07</td>\n",
       "      <td>11</td>\n",
       "    </tr>\n",
       "    <tr>\n",
       "      <th>2013-01-01</th>\n",
       "      <td>54096599.0</td>\n",
       "      <td>259746958.0</td>\n",
       "      <td>1.389107e+09</td>\n",
       "      <td>2.250324e+07</td>\n",
       "      <td>1.217500e+08</td>\n",
       "      <td>4</td>\n",
       "    </tr>\n",
       "  </tbody>\n",
       "</table>\n",
       "</div>"
      ],
      "text/plain": [
       "             domestic_gross              worldwide_gross production_budget  \\\n",
       "                        low         high           total             stdEm   \n",
       "release_date                                                                 \n",
       "1988-01-01       14545844.0   83287363.0    3.327003e+08      6.135960e+06   \n",
       "1993-01-01         749741.0  395708305.0    1.608301e+09      7.175555e+06   \n",
       "1998-01-01         687081.0   94999143.0    8.413794e+08      5.932781e+06   \n",
       "2003-01-01        3172382.0  261441092.0    1.269428e+09      7.540004e+06   \n",
       "2008-01-01        1110509.0  318604126.0    2.971301e+09      1.828343e+07   \n",
       "2013-01-01       54096599.0  259746958.0    1.389107e+09      2.250324e+07   \n",
       "\n",
       "                                \n",
       "                       avg  ct  \n",
       "release_date                    \n",
       "1988-01-01    1.850000e+07   6  \n",
       "1993-01-01    2.393636e+07  11  \n",
       "1998-01-01    5.027560e+07  10  \n",
       "2003-01-01    4.277273e+07  11  \n",
       "2008-01-01    9.595455e+07  11  \n",
       "2013-01-01    1.217500e+08   4  "
      ]
     },
     "execution_count": 62,
     "metadata": {},
     "output_type": "execute_result"
    }
   ],
   "source": [
    "# or you can get very fancy and pass a dict of dicts\n",
    "# the first key references the DataFrames' original column name while\n",
    "# the second key defines the name of a new column\n",
    "yr_bins = actor_df.set_index('release_date').resample('5AS').apply({\n",
    "        'production_budget':{'avg':'mean', 'ct':'count', 'stdEm':'sem'},\n",
    "        'domestic_gross':{'low':'min', 'high':'max'},\n",
    "        'worldwide_gross':{'total':'sum'}})\n",
    "yr_bins"
   ]
  },
  {
   "cell_type": "markdown",
   "metadata": {},
   "source": [
    "### Special note: try not to use method names as column names. It will make indexing more annoying.\n",
    "\n",
    "#### For example, a column named 'mean' will cause a collision when you call df.mean with the function call having precedence\n",
    "\n",
    "You will only be able to acced the column like: `df['mean']"
   ]
  },
  {
   "cell_type": "markdown",
   "metadata": {},
   "source": [
    "## Multiindexing"
   ]
  },
  {
   "cell_type": "code",
   "execution_count": 63,
   "metadata": {
    "collapsed": false
   },
   "outputs": [
    {
     "data": {
      "text/html": [
       "<div>\n",
       "<table border=\"1\" class=\"dataframe\">\n",
       "  <thead>\n",
       "    <tr>\n",
       "      <th></th>\n",
       "      <th colspan=\"2\" halign=\"left\">domestic_gross</th>\n",
       "      <th>worldwide_gross</th>\n",
       "      <th colspan=\"3\" halign=\"left\">production_budget</th>\n",
       "    </tr>\n",
       "    <tr>\n",
       "      <th></th>\n",
       "      <th>low</th>\n",
       "      <th>high</th>\n",
       "      <th>total</th>\n",
       "      <th>stdEm</th>\n",
       "      <th>avg</th>\n",
       "      <th>ct</th>\n",
       "    </tr>\n",
       "    <tr>\n",
       "      <th>release_date</th>\n",
       "      <th></th>\n",
       "      <th></th>\n",
       "      <th></th>\n",
       "      <th></th>\n",
       "      <th></th>\n",
       "      <th></th>\n",
       "    </tr>\n",
       "  </thead>\n",
       "  <tbody>\n",
       "    <tr>\n",
       "      <th>1988-01-01</th>\n",
       "      <td>14545844.0</td>\n",
       "      <td>83287363.0</td>\n",
       "      <td>3.327003e+08</td>\n",
       "      <td>6.135960e+06</td>\n",
       "      <td>1.850000e+07</td>\n",
       "      <td>6</td>\n",
       "    </tr>\n",
       "    <tr>\n",
       "      <th>1993-01-01</th>\n",
       "      <td>749741.0</td>\n",
       "      <td>395708305.0</td>\n",
       "      <td>1.608301e+09</td>\n",
       "      <td>7.175555e+06</td>\n",
       "      <td>2.393636e+07</td>\n",
       "      <td>11</td>\n",
       "    </tr>\n",
       "    <tr>\n",
       "      <th>1998-01-01</th>\n",
       "      <td>687081.0</td>\n",
       "      <td>94999143.0</td>\n",
       "      <td>8.413794e+08</td>\n",
       "      <td>5.932781e+06</td>\n",
       "      <td>5.027560e+07</td>\n",
       "      <td>10</td>\n",
       "    </tr>\n",
       "  </tbody>\n",
       "</table>\n",
       "</div>"
      ],
      "text/plain": [
       "             domestic_gross              worldwide_gross production_budget  \\\n",
       "                        low         high           total             stdEm   \n",
       "release_date                                                                 \n",
       "1988-01-01       14545844.0   83287363.0    3.327003e+08      6.135960e+06   \n",
       "1993-01-01         749741.0  395708305.0    1.608301e+09      7.175555e+06   \n",
       "1998-01-01         687081.0   94999143.0    8.413794e+08      5.932781e+06   \n",
       "\n",
       "                                \n",
       "                       avg  ct  \n",
       "release_date                    \n",
       "1988-01-01    1.850000e+07   6  \n",
       "1993-01-01    2.393636e+07  11  \n",
       "1998-01-01    5.027560e+07  10  "
      ]
     },
     "execution_count": 63,
     "metadata": {},
     "output_type": "execute_result"
    }
   ],
   "source": [
    "yr_bins.head(3)"
   ]
  },
  {
   "cell_type": "code",
   "execution_count": 64,
   "metadata": {
    "collapsed": false
   },
   "outputs": [
    {
     "data": {
      "text/html": [
       "<div>\n",
       "<table border=\"1\" class=\"dataframe\">\n",
       "  <thead>\n",
       "    <tr style=\"text-align: right;\">\n",
       "      <th></th>\n",
       "      <th>stdEm</th>\n",
       "      <th>avg</th>\n",
       "      <th>ct</th>\n",
       "    </tr>\n",
       "    <tr>\n",
       "      <th>release_date</th>\n",
       "      <th></th>\n",
       "      <th></th>\n",
       "      <th></th>\n",
       "    </tr>\n",
       "  </thead>\n",
       "  <tbody>\n",
       "    <tr>\n",
       "      <th>1988-01-01</th>\n",
       "      <td>6.135960e+06</td>\n",
       "      <td>1.850000e+07</td>\n",
       "      <td>6</td>\n",
       "    </tr>\n",
       "    <tr>\n",
       "      <th>1993-01-01</th>\n",
       "      <td>7.175555e+06</td>\n",
       "      <td>2.393636e+07</td>\n",
       "      <td>11</td>\n",
       "    </tr>\n",
       "  </tbody>\n",
       "</table>\n",
       "</div>"
      ],
      "text/plain": [
       "                     stdEm           avg  ct\n",
       "release_date                                \n",
       "1988-01-01    6.135960e+06  1.850000e+07   6\n",
       "1993-01-01    7.175555e+06  2.393636e+07  11"
      ]
     },
     "execution_count": 64,
     "metadata": {},
     "output_type": "execute_result"
    }
   ],
   "source": [
    "yr_bins.production_budget.head(2)"
   ]
  },
  {
   "cell_type": "code",
   "execution_count": 65,
   "metadata": {
    "collapsed": false
   },
   "outputs": [
    {
     "data": {
      "text/plain": [
       "release_date\n",
       "1988-01-01    1.850000e+07\n",
       "1993-01-01    2.393636e+07\n",
       "1998-01-01    5.027560e+07\n",
       "2003-01-01    4.277273e+07\n",
       "2008-01-01    9.595455e+07\n",
       "2013-01-01    1.217500e+08\n",
       "Freq: 5AS-JAN, Name: avg, dtype: float64"
      ]
     },
     "execution_count": 65,
     "metadata": {},
     "output_type": "execute_result"
    }
   ],
   "source": [
    "# chaining the dot column name syntax is fine\n",
    "yr_bins.production_budget.avg"
   ]
  },
  {
   "cell_type": "code",
   "execution_count": 66,
   "metadata": {
    "collapsed": false
   },
   "outputs": [
    {
     "data": {
      "text/plain": [
       "release_date\n",
       "1988-01-01    1.850000e+07\n",
       "1993-01-01    2.393636e+07\n",
       "1998-01-01    5.027560e+07\n",
       "2003-01-01    4.277273e+07\n",
       "2008-01-01    9.595455e+07\n",
       "2013-01-01    1.217500e+08\n",
       "Freq: 5AS-JAN, Name: (production_budget, avg), dtype: float64"
      ]
     },
     "execution_count": 66,
     "metadata": {},
     "output_type": "execute_result"
    }
   ],
   "source": [
    "# you can also index both levels of the column index by name, as strings\n",
    "yr_bins['production_budget','avg']"
   ]
  },
  {
   "cell_type": "markdown",
   "metadata": {},
   "source": [
    "## Flattening a multi-level column index\n",
    "\n",
    "### Use a list comprehension to rewrite the column names"
   ]
  },
  {
   "cell_type": "code",
   "execution_count": 67,
   "metadata": {
    "collapsed": false
   },
   "outputs": [
    {
     "data": {
      "text/html": [
       "<div>\n",
       "<table border=\"1\" class=\"dataframe\">\n",
       "  <thead>\n",
       "    <tr>\n",
       "      <th></th>\n",
       "      <th colspan=\"2\" halign=\"left\">domestic_gross</th>\n",
       "      <th>worldwide_gross</th>\n",
       "      <th colspan=\"3\" halign=\"left\">production_budget</th>\n",
       "    </tr>\n",
       "    <tr>\n",
       "      <th></th>\n",
       "      <th>low</th>\n",
       "      <th>high</th>\n",
       "      <th>total</th>\n",
       "      <th>stdEm</th>\n",
       "      <th>avg</th>\n",
       "      <th>ct</th>\n",
       "    </tr>\n",
       "    <tr>\n",
       "      <th>release_date</th>\n",
       "      <th></th>\n",
       "      <th></th>\n",
       "      <th></th>\n",
       "      <th></th>\n",
       "      <th></th>\n",
       "      <th></th>\n",
       "    </tr>\n",
       "  </thead>\n",
       "  <tbody>\n",
       "    <tr>\n",
       "      <th>1988-01-01</th>\n",
       "      <td>14545844.0</td>\n",
       "      <td>83287363.0</td>\n",
       "      <td>3.327003e+08</td>\n",
       "      <td>6.135960e+06</td>\n",
       "      <td>1.850000e+07</td>\n",
       "      <td>6</td>\n",
       "    </tr>\n",
       "    <tr>\n",
       "      <th>1993-01-01</th>\n",
       "      <td>749741.0</td>\n",
       "      <td>395708305.0</td>\n",
       "      <td>1.608301e+09</td>\n",
       "      <td>7.175555e+06</td>\n",
       "      <td>2.393636e+07</td>\n",
       "      <td>11</td>\n",
       "    </tr>\n",
       "  </tbody>\n",
       "</table>\n",
       "</div>"
      ],
      "text/plain": [
       "             domestic_gross              worldwide_gross production_budget  \\\n",
       "                        low         high           total             stdEm   \n",
       "release_date                                                                 \n",
       "1988-01-01       14545844.0   83287363.0    3.327003e+08      6.135960e+06   \n",
       "1993-01-01         749741.0  395708305.0    1.608301e+09      7.175555e+06   \n",
       "\n",
       "                                \n",
       "                       avg  ct  \n",
       "release_date                    \n",
       "1988-01-01    1.850000e+07   6  \n",
       "1993-01-01    2.393636e+07  11  "
      ]
     },
     "execution_count": 67,
     "metadata": {},
     "output_type": "execute_result"
    }
   ],
   "source": [
    "yr_bins.head(2)"
   ]
  },
  {
   "cell_type": "code",
   "execution_count": 68,
   "metadata": {
    "collapsed": false
   },
   "outputs": [
    {
     "name": "stdout",
     "output_type": "stream",
     "text": [
      "[('domestic_gross', 'low') ('domestic_gross', 'high')\n",
      " ('worldwide_gross', 'total') ('production_budget', 'stdEm')\n",
      " ('production_budget', 'avg') ('production_budget', 'ct')]\n"
     ]
    }
   ],
   "source": [
    "print(yr_bins.columns.values)"
   ]
  },
  {
   "cell_type": "code",
   "execution_count": 69,
   "metadata": {
    "collapsed": false
   },
   "outputs": [
    {
     "data": {
      "text/html": [
       "<div>\n",
       "<table border=\"1\" class=\"dataframe\">\n",
       "  <thead>\n",
       "    <tr style=\"text-align: right;\">\n",
       "      <th></th>\n",
       "      <th>domestic_gross_low</th>\n",
       "      <th>domestic_gross_high</th>\n",
       "      <th>worldwide_gross_total</th>\n",
       "      <th>production_budget_stdEm</th>\n",
       "      <th>production_budget_avg</th>\n",
       "      <th>production_budget_ct</th>\n",
       "    </tr>\n",
       "    <tr>\n",
       "      <th>release_date</th>\n",
       "      <th></th>\n",
       "      <th></th>\n",
       "      <th></th>\n",
       "      <th></th>\n",
       "      <th></th>\n",
       "      <th></th>\n",
       "    </tr>\n",
       "  </thead>\n",
       "  <tbody>\n",
       "    <tr>\n",
       "      <th>1988-01-01</th>\n",
       "      <td>14545844.0</td>\n",
       "      <td>83287363.0</td>\n",
       "      <td>3.327003e+08</td>\n",
       "      <td>6.135960e+06</td>\n",
       "      <td>1.850000e+07</td>\n",
       "      <td>6</td>\n",
       "    </tr>\n",
       "    <tr>\n",
       "      <th>1993-01-01</th>\n",
       "      <td>749741.0</td>\n",
       "      <td>395708305.0</td>\n",
       "      <td>1.608301e+09</td>\n",
       "      <td>7.175555e+06</td>\n",
       "      <td>2.393636e+07</td>\n",
       "      <td>11</td>\n",
       "    </tr>\n",
       "  </tbody>\n",
       "</table>\n",
       "</div>"
      ],
      "text/plain": [
       "              domestic_gross_low  domestic_gross_high  worldwide_gross_total  \\\n",
       "release_date                                                                   \n",
       "1988-01-01            14545844.0           83287363.0           3.327003e+08   \n",
       "1993-01-01              749741.0          395708305.0           1.608301e+09   \n",
       "\n",
       "              production_budget_stdEm  production_budget_avg  \\\n",
       "release_date                                                   \n",
       "1988-01-01               6.135960e+06           1.850000e+07   \n",
       "1993-01-01               7.175555e+06           2.393636e+07   \n",
       "\n",
       "              production_budget_ct  \n",
       "release_date                        \n",
       "1988-01-01                       6  \n",
       "1993-01-01                      11  "
      ]
     },
     "execution_count": 69,
     "metadata": {},
     "output_type": "execute_result"
    }
   ],
   "source": [
    "yr_bins_flat = yr_bins.copy()\n",
    "# use an underscore as delimiter is an optional convention\n",
    "yr_bins_flat.columns = ['_'.join(col) for col in yr_bins.columns.values]\n",
    "yr_bins_flat.head(2)"
   ]
  },
  {
   "cell_type": "code",
   "execution_count": 70,
   "metadata": {
    "collapsed": false
   },
   "outputs": [
    {
     "data": {
      "text/plain": [
       "MultiIndex(levels=[['domestic_gross', 'worldwide_gross', 'production_budget'], ['avg', 'ct', 'high', 'low', 'stdEm', 'total']],\n",
       "           labels=[[0, 0, 1, 2, 2, 2], [3, 2, 5, 4, 0, 1]])"
      ]
     },
     "execution_count": 70,
     "metadata": {},
     "output_type": "execute_result"
    }
   ],
   "source": [
    "# you can also access specific index levels using the get_level_values function\n",
    "yr_bins.columns"
   ]
  },
  {
   "cell_type": "code",
   "execution_count": 71,
   "metadata": {
    "collapsed": false
   },
   "outputs": [
    {
     "data": {
      "text/plain": [
       "Index(['domestic_gross', 'domestic_gross', 'worldwide_gross',\n",
       "       'production_budget', 'production_budget', 'production_budget'],\n",
       "      dtype='object')"
      ]
     },
     "execution_count": 71,
     "metadata": {},
     "output_type": "execute_result"
    }
   ],
   "source": [
    "yr_bins.columns.get_level_values(0)"
   ]
  },
  {
   "cell_type": "code",
   "execution_count": 72,
   "metadata": {
    "collapsed": false
   },
   "outputs": [
    {
     "data": {
      "text/plain": [
       "Index(['low', 'high', 'total', 'stdEm', 'avg', 'ct'], dtype='object')"
      ]
     },
     "execution_count": 72,
     "metadata": {},
     "output_type": "execute_result"
    }
   ],
   "source": [
    "yr_bins.columns.get_level_values(1)"
   ]
  },
  {
   "cell_type": "markdown",
   "metadata": {},
   "source": [
    "## `pd.cut()`: bins numeric values and converts to categorical values"
   ]
  },
  {
   "cell_type": "code",
   "execution_count": 73,
   "metadata": {
    "collapsed": false
   },
   "outputs": [
    {
     "data": {
      "text/html": [
       "<div>\n",
       "<table border=\"1\" class=\"dataframe\">\n",
       "  <thead>\n",
       "    <tr style=\"text-align: right;\">\n",
       "      <th></th>\n",
       "      <th>movie</th>\n",
       "      <th>rating_no</th>\n",
       "      <th>gross</th>\n",
       "    </tr>\n",
       "  </thead>\n",
       "  <tbody>\n",
       "    <tr>\n",
       "      <th>924</th>\n",
       "      <td>Beyond Borders</td>\n",
       "      <td>0.357448</td>\n",
       "      <td>35744753.20</td>\n",
       "    </tr>\n",
       "    <tr>\n",
       "      <th>8929</th>\n",
       "      <td>Wag the Dog</td>\n",
       "      <td>0.958622</td>\n",
       "      <td>95862182.92</td>\n",
       "    </tr>\n",
       "    <tr>\n",
       "      <th>3969</th>\n",
       "      <td>Life as a House</td>\n",
       "      <td>0.400958</td>\n",
       "      <td>40095753.26</td>\n",
       "    </tr>\n",
       "    <tr>\n",
       "      <th>7136</th>\n",
       "      <td>The Four Feathers</td>\n",
       "      <td>0.018581</td>\n",
       "      <td>1858052.17</td>\n",
       "    </tr>\n",
       "    <tr>\n",
       "      <th>5782</th>\n",
       "      <td>Screwed</td>\n",
       "      <td>0.899064</td>\n",
       "      <td>89906374.14</td>\n",
       "    </tr>\n",
       "    <tr>\n",
       "      <th>7648</th>\n",
       "      <td>The Lord of the Rings: The Fellowship of the Ring</td>\n",
       "      <td>0.253054</td>\n",
       "      <td>25305418.54</td>\n",
       "    </tr>\n",
       "    <tr>\n",
       "      <th>4175</th>\n",
       "      <td>Mad Money</td>\n",
       "      <td>0.996106</td>\n",
       "      <td>99610640.67</td>\n",
       "    </tr>\n",
       "    <tr>\n",
       "      <th>7803</th>\n",
       "      <td>The Mummy Returns</td>\n",
       "      <td>0.554129</td>\n",
       "      <td>55412942.30</td>\n",
       "    </tr>\n",
       "    <tr>\n",
       "      <th>8871</th>\n",
       "      <td>Valkyrie</td>\n",
       "      <td>0.723588</td>\n",
       "      <td>72358788.24</td>\n",
       "    </tr>\n",
       "    <tr>\n",
       "      <th>5123</th>\n",
       "      <td>Pinocchio</td>\n",
       "      <td>0.940303</td>\n",
       "      <td>94030318.55</td>\n",
       "    </tr>\n",
       "  </tbody>\n",
       "</table>\n",
       "</div>"
      ],
      "text/plain": [
       "                                                  movie  rating_no  \\\n",
       "924                                      Beyond Borders   0.357448   \n",
       "8929                                        Wag the Dog   0.958622   \n",
       "3969                                    Life as a House   0.400958   \n",
       "7136                                  The Four Feathers   0.018581   \n",
       "5782                                            Screwed   0.899064   \n",
       "7648  The Lord of the Rings: The Fellowship of the Ring   0.253054   \n",
       "4175                                          Mad Money   0.996106   \n",
       "7803                                  The Mummy Returns   0.554129   \n",
       "8871                                           Valkyrie   0.723588   \n",
       "5123                                          Pinocchio   0.940303   \n",
       "\n",
       "            gross  \n",
       "924   35744753.20  \n",
       "8929  95862182.92  \n",
       "3969  40095753.26  \n",
       "7136   1858052.17  \n",
       "5782  89906374.14  \n",
       "7648  25305418.54  \n",
       "4175  99610640.67  \n",
       "7803  55412942.30  \n",
       "8871  72358788.24  \n",
       "5123  94030318.55  "
      ]
     },
     "execution_count": 73,
     "metadata": {},
     "output_type": "execute_result"
    }
   ],
   "source": [
    "# make some fake data\n",
    "no_movies = 10\n",
    "ratings_df = pd.DataFrame.from_dict({\n",
    "        'rating_no': pd.np.random.rand(no_movies),\n",
    "        'movie': df.title.sample(no_movies)\n",
    "    })\n",
    "\n",
    "# fake gross based on fake rating\n",
    "ratings_df['gross'] = pd.np.round(ratings_df.rating_no*100000000, decimals=2)\n",
    "\n",
    "# save this unmodified version for later\n",
    "ratings_df_orig = ratings_df.copy()\n",
    "\n",
    "ratings_df"
   ]
  },
  {
   "cell_type": "code",
   "execution_count": 74,
   "metadata": {
    "collapsed": false
   },
   "outputs": [
    {
     "data": {
      "text/html": [
       "<div>\n",
       "<table border=\"1\" class=\"dataframe\">\n",
       "  <thead>\n",
       "    <tr style=\"text-align: right;\">\n",
       "      <th></th>\n",
       "      <th>movie</th>\n",
       "      <th>rating_no</th>\n",
       "      <th>gross</th>\n",
       "      <th>rating_category_ugly</th>\n",
       "      <th>rating_category</th>\n",
       "    </tr>\n",
       "  </thead>\n",
       "  <tbody>\n",
       "    <tr>\n",
       "      <th>924</th>\n",
       "      <td>Beyond Borders</td>\n",
       "      <td>0.357448</td>\n",
       "      <td>35744753.20</td>\n",
       "      <td>(0.263, 0.507]</td>\n",
       "      <td>mediocre</td>\n",
       "    </tr>\n",
       "    <tr>\n",
       "      <th>8929</th>\n",
       "      <td>Wag the Dog</td>\n",
       "      <td>0.958622</td>\n",
       "      <td>95862182.92</td>\n",
       "      <td>(0.752, 0.996]</td>\n",
       "      <td>excellent</td>\n",
       "    </tr>\n",
       "    <tr>\n",
       "      <th>3969</th>\n",
       "      <td>Life as a House</td>\n",
       "      <td>0.400958</td>\n",
       "      <td>40095753.26</td>\n",
       "      <td>(0.263, 0.507]</td>\n",
       "      <td>mediocre</td>\n",
       "    </tr>\n",
       "    <tr>\n",
       "      <th>7136</th>\n",
       "      <td>The Four Feathers</td>\n",
       "      <td>0.018581</td>\n",
       "      <td>1858052.17</td>\n",
       "      <td>(0.0176, 0.263]</td>\n",
       "      <td>bad</td>\n",
       "    </tr>\n",
       "    <tr>\n",
       "      <th>5782</th>\n",
       "      <td>Screwed</td>\n",
       "      <td>0.899064</td>\n",
       "      <td>89906374.14</td>\n",
       "      <td>(0.752, 0.996]</td>\n",
       "      <td>excellent</td>\n",
       "    </tr>\n",
       "    <tr>\n",
       "      <th>7648</th>\n",
       "      <td>The Lord of the Rings: The Fellowship of the Ring</td>\n",
       "      <td>0.253054</td>\n",
       "      <td>25305418.54</td>\n",
       "      <td>(0.0176, 0.263]</td>\n",
       "      <td>bad</td>\n",
       "    </tr>\n",
       "    <tr>\n",
       "      <th>4175</th>\n",
       "      <td>Mad Money</td>\n",
       "      <td>0.996106</td>\n",
       "      <td>99610640.67</td>\n",
       "      <td>(0.752, 0.996]</td>\n",
       "      <td>excellent</td>\n",
       "    </tr>\n",
       "    <tr>\n",
       "      <th>7803</th>\n",
       "      <td>The Mummy Returns</td>\n",
       "      <td>0.554129</td>\n",
       "      <td>55412942.30</td>\n",
       "      <td>(0.507, 0.752]</td>\n",
       "      <td>good</td>\n",
       "    </tr>\n",
       "    <tr>\n",
       "      <th>8871</th>\n",
       "      <td>Valkyrie</td>\n",
       "      <td>0.723588</td>\n",
       "      <td>72358788.24</td>\n",
       "      <td>(0.507, 0.752]</td>\n",
       "      <td>good</td>\n",
       "    </tr>\n",
       "    <tr>\n",
       "      <th>5123</th>\n",
       "      <td>Pinocchio</td>\n",
       "      <td>0.940303</td>\n",
       "      <td>94030318.55</td>\n",
       "      <td>(0.752, 0.996]</td>\n",
       "      <td>excellent</td>\n",
       "    </tr>\n",
       "  </tbody>\n",
       "</table>\n",
       "</div>"
      ],
      "text/plain": [
       "                                                  movie  rating_no  \\\n",
       "924                                      Beyond Borders   0.357448   \n",
       "8929                                        Wag the Dog   0.958622   \n",
       "3969                                    Life as a House   0.400958   \n",
       "7136                                  The Four Feathers   0.018581   \n",
       "5782                                            Screwed   0.899064   \n",
       "7648  The Lord of the Rings: The Fellowship of the Ring   0.253054   \n",
       "4175                                          Mad Money   0.996106   \n",
       "7803                                  The Mummy Returns   0.554129   \n",
       "8871                                           Valkyrie   0.723588   \n",
       "5123                                          Pinocchio   0.940303   \n",
       "\n",
       "            gross rating_category_ugly rating_category  \n",
       "924   35744753.20       (0.263, 0.507]        mediocre  \n",
       "8929  95862182.92       (0.752, 0.996]       excellent  \n",
       "3969  40095753.26       (0.263, 0.507]        mediocre  \n",
       "7136   1858052.17      (0.0176, 0.263]             bad  \n",
       "5782  89906374.14       (0.752, 0.996]       excellent  \n",
       "7648  25305418.54      (0.0176, 0.263]             bad  \n",
       "4175  99610640.67       (0.752, 0.996]       excellent  \n",
       "7803  55412942.30       (0.507, 0.752]            good  \n",
       "8871  72358788.24       (0.507, 0.752]            good  \n",
       "5123  94030318.55       (0.752, 0.996]       excellent  "
      ]
     },
     "execution_count": 74,
     "metadata": {},
     "output_type": "execute_result"
    }
   ],
   "source": [
    "# cut numerical ratings into N bins\n",
    "\n",
    "# here's what the labels default to when you don't define your own lables\n",
    "ratings_df['rating_category_ugly'] = pd.cut(ratings_df.rating_no, bins=4)\n",
    "\n",
    "# you can substitute whatever labels you want\n",
    "ratings_df['rating_category'] = pd.cut(ratings_df.rating_no, bins=4, labels=['bad','mediocre','good','excellent'])\n",
    "\n",
    "ratings_df"
   ]
  },
  {
   "cell_type": "code",
   "execution_count": 75,
   "metadata": {
    "collapsed": false
   },
   "outputs": [
    {
     "name": "stdout",
     "output_type": "stream",
     "text": [
      "mean gross for each rating bin\n"
     ]
    },
    {
     "data": {
      "text/html": [
       "<div>\n",
       "<table border=\"1\" class=\"dataframe\">\n",
       "  <thead>\n",
       "    <tr style=\"text-align: right;\">\n",
       "      <th></th>\n",
       "      <th>rating_no</th>\n",
       "      <th>gross</th>\n",
       "    </tr>\n",
       "    <tr>\n",
       "      <th>rating_category</th>\n",
       "      <th></th>\n",
       "      <th></th>\n",
       "    </tr>\n",
       "  </thead>\n",
       "  <tbody>\n",
       "    <tr>\n",
       "      <th>bad</th>\n",
       "      <td>0.135817</td>\n",
       "      <td>1.358174e+07</td>\n",
       "    </tr>\n",
       "    <tr>\n",
       "      <th>mediocre</th>\n",
       "      <td>0.379203</td>\n",
       "      <td>3.792025e+07</td>\n",
       "    </tr>\n",
       "    <tr>\n",
       "      <th>good</th>\n",
       "      <td>0.638859</td>\n",
       "      <td>6.388587e+07</td>\n",
       "    </tr>\n",
       "    <tr>\n",
       "      <th>excellent</th>\n",
       "      <td>0.948524</td>\n",
       "      <td>9.485238e+07</td>\n",
       "    </tr>\n",
       "  </tbody>\n",
       "</table>\n",
       "</div>"
      ],
      "text/plain": [
       "                 rating_no         gross\n",
       "rating_category                         \n",
       "bad               0.135817  1.358174e+07\n",
       "mediocre          0.379203  3.792025e+07\n",
       "good              0.638859  6.388587e+07\n",
       "excellent         0.948524  9.485238e+07"
      ]
     },
     "execution_count": 75,
     "metadata": {},
     "output_type": "execute_result"
    }
   ],
   "source": [
    "# `pd.cut` gives us an excellent way to groupby based on bins\n",
    "# Eg. we can use the new categorical ratings to find the mean gross for each rating bin\n",
    "print('mean gross for each rating bin')\n",
    "ratings_df.groupby('rating_category').mean()"
   ]
  },
  {
   "cell_type": "code",
   "execution_count": 76,
   "metadata": {
    "collapsed": false
   },
   "outputs": [
    {
     "data": {
      "text/html": [
       "<div>\n",
       "<table border=\"1\" class=\"dataframe\">\n",
       "  <thead>\n",
       "    <tr style=\"text-align: right;\">\n",
       "      <th></th>\n",
       "      <th>rating_no</th>\n",
       "      <th>gross</th>\n",
       "    </tr>\n",
       "  </thead>\n",
       "  <tbody>\n",
       "    <tr>\n",
       "      <th>0</th>\n",
       "      <td>0.018581</td>\n",
       "      <td>1.858052e+06</td>\n",
       "    </tr>\n",
       "    <tr>\n",
       "      <th>1</th>\n",
       "      <td>0.337153</td>\n",
       "      <td>3.371531e+07</td>\n",
       "    </tr>\n",
       "    <tr>\n",
       "      <th>2</th>\n",
       "      <td>0.554129</td>\n",
       "      <td>5.541294e+07</td>\n",
       "    </tr>\n",
       "    <tr>\n",
       "      <th>3</th>\n",
       "      <td>0.723588</td>\n",
       "      <td>7.235879e+07</td>\n",
       "    </tr>\n",
       "    <tr>\n",
       "      <th>4</th>\n",
       "      <td>0.948524</td>\n",
       "      <td>9.485238e+07</td>\n",
       "    </tr>\n",
       "  </tbody>\n",
       "</table>\n",
       "</div>"
      ],
      "text/plain": [
       "   rating_no         gross\n",
       "0   0.018581  1.858052e+06\n",
       "1   0.337153  3.371531e+07\n",
       "2   0.554129  5.541294e+07\n",
       "3   0.723588  7.235879e+07\n",
       "4   0.948524  9.485238e+07"
      ]
     },
     "execution_count": 76,
     "metadata": {},
     "output_type": "execute_result"
    }
   ],
   "source": [
    "# Even if we didn't care about assigning labels like 'bad', 'mediocre' etc to the rating numbers\n",
    "# pd.cut is still very useful if we want to groupby on binned numerical data\n",
    "\n",
    "# We can do this as a one-liner, using the copy of the original ratings_df before we added the extra columns\n",
    "ratings_df_orig.groupby(pd.cut(ratings_df_orig.rating_no,bins=5),as_index=False).mean()"
   ]
  },
  {
   "cell_type": "markdown",
   "metadata": {},
   "source": [
    "# Random Useful Functions"
   ]
  },
  {
   "cell_type": "markdown",
   "metadata": {},
   "source": [
    "## isin"
   ]
  },
  {
   "cell_type": "code",
   "execution_count": 77,
   "metadata": {
    "collapsed": false
   },
   "outputs": [
    {
     "data": {
      "text/plain": [
       "actor\n",
       "Susan Sarandon      33\n",
       "Julia Roberts       32\n",
       "Julianne Moore      31\n",
       "Cate Blanchett      30\n",
       "Sigourney Weaver    29\n",
       "dtype: int64"
      ]
     },
     "execution_count": 77,
     "metadata": {},
     "output_type": "execute_result"
    }
   ],
   "source": [
    "# which female actors appear most often in the dataset?\n",
    "top_actresses = df[df.male==0].groupby('actor').size().sort_values(ascending=False).head()\n",
    "top_actresses"
   ]
  },
  {
   "cell_type": "code",
   "execution_count": 78,
   "metadata": {
    "collapsed": false
   },
   "outputs": [
    {
     "data": {
      "text/html": [
       "<div>\n",
       "<table border=\"1\" class=\"dataframe\">\n",
       "  <thead>\n",
       "    <tr style=\"text-align: right;\">\n",
       "      <th></th>\n",
       "      <th>title</th>\n",
       "      <th>actor</th>\n",
       "      <th>rank</th>\n",
       "      <th>studio</th>\n",
       "      <th>bday</th>\n",
       "      <th>male</th>\n",
       "      <th>release_date</th>\n",
       "      <th>production_budget</th>\n",
       "      <th>domestic_gross</th>\n",
       "      <th>worldwide_gross</th>\n",
       "    </tr>\n",
       "  </thead>\n",
       "  <tbody>\n",
       "    <tr>\n",
       "      <th>353</th>\n",
       "      <td>Alfie</td>\n",
       "      <td>Susan Sarandon</td>\n",
       "      <td>32</td>\n",
       "      <td>Par.</td>\n",
       "      <td>1946-10-04</td>\n",
       "      <td>0.0</td>\n",
       "      <td>2004-11-05</td>\n",
       "      <td>40000000.0</td>\n",
       "      <td>13395939.0</td>\n",
       "      <td>35195939.0</td>\n",
       "    </tr>\n",
       "    <tr>\n",
       "      <th>442</th>\n",
       "      <td>America's Sweethearts</td>\n",
       "      <td>Julia Roberts</td>\n",
       "      <td>14</td>\n",
       "      <td>SonR</td>\n",
       "      <td>1967-10-28</td>\n",
       "      <td>0.0</td>\n",
       "      <td>2001-07-20</td>\n",
       "      <td>46000000.0</td>\n",
       "      <td>93607673.0</td>\n",
       "      <td>160648493.0</td>\n",
       "    </tr>\n",
       "    <tr>\n",
       "      <th>607</th>\n",
       "      <td>Anywhere But Here</td>\n",
       "      <td>Susan Sarandon</td>\n",
       "      <td>25</td>\n",
       "      <td>Fox</td>\n",
       "      <td>1946-10-04</td>\n",
       "      <td>0.0</td>\n",
       "      <td>1999-11-12</td>\n",
       "      <td>23000000.0</td>\n",
       "      <td>18653615.0</td>\n",
       "      <td>18653615.0</td>\n",
       "    </tr>\n",
       "    <tr>\n",
       "      <th>624</th>\n",
       "      <td>Arbitrage</td>\n",
       "      <td>Susan Sarandon</td>\n",
       "      <td>39</td>\n",
       "      <td>RAtt.</td>\n",
       "      <td>1946-10-04</td>\n",
       "      <td>0.0</td>\n",
       "      <td>2012-09-14</td>\n",
       "      <td>12000000.0</td>\n",
       "      <td>7919574.0</td>\n",
       "      <td>35830713.0</td>\n",
       "    </tr>\n",
       "    <tr>\n",
       "      <th>686</th>\n",
       "      <td>August: Osage County</td>\n",
       "      <td>Julia Roberts</td>\n",
       "      <td>28</td>\n",
       "      <td>Wein.</td>\n",
       "      <td>1967-10-28</td>\n",
       "      <td>0.0</td>\n",
       "      <td>2013-12-25</td>\n",
       "      <td>25000000.0</td>\n",
       "      <td>37738810.0</td>\n",
       "      <td>50738810.0</td>\n",
       "    </tr>\n",
       "  </tbody>\n",
       "</table>\n",
       "</div>"
      ],
      "text/plain": [
       "                     title           actor  rank studio       bday  male  \\\n",
       "353                  Alfie  Susan Sarandon    32   Par. 1946-10-04   0.0   \n",
       "442  America's Sweethearts   Julia Roberts    14   SonR 1967-10-28   0.0   \n",
       "607      Anywhere But Here  Susan Sarandon    25    Fox 1946-10-04   0.0   \n",
       "624              Arbitrage  Susan Sarandon    39  RAtt. 1946-10-04   0.0   \n",
       "686   August: Osage County   Julia Roberts    28  Wein. 1967-10-28   0.0   \n",
       "\n",
       "    release_date  production_budget  domestic_gross  worldwide_gross  \n",
       "353   2004-11-05         40000000.0      13395939.0       35195939.0  \n",
       "442   2001-07-20         46000000.0      93607673.0      160648493.0  \n",
       "607   1999-11-12         23000000.0      18653615.0       18653615.0  \n",
       "624   2012-09-14         12000000.0       7919574.0       35830713.0  \n",
       "686   2013-12-25         25000000.0      37738810.0       50738810.0  "
      ]
     },
     "execution_count": 78,
     "metadata": {},
     "output_type": "execute_result"
    }
   ],
   "source": [
    "# often we want to select all rows where a column contains any value in a list\n",
    "# eg. select all rows where df.actor is in our list of actors\n",
    "actor_list = ['Susan Sarandon','Julia Roberts']\n",
    "\n",
    "# use pandas.DataFrame.isin to find all the movies that have at least one of the actors in our list\n",
    "df[df.actor.isin(actor_list)].head()"
   ]
  },
  {
   "cell_type": "code",
   "execution_count": null,
   "metadata": {
    "collapsed": true
   },
   "outputs": [],
   "source": []
  },
  {
   "cell_type": "markdown",
   "metadata": {},
   "source": [
    "## unique"
   ]
  },
  {
   "cell_type": "code",
   "execution_count": 79,
   "metadata": {
    "collapsed": false
   },
   "outputs": [
    {
     "name": "stdout",
     "output_type": "stream",
     "text": [
      "151\n"
     ]
    }
   ],
   "source": [
    "# how many unique studio names are there?\n",
    "print(len(df.studio.unique()))"
   ]
  },
  {
   "cell_type": "code",
   "execution_count": 80,
   "metadata": {
    "collapsed": false
   },
   "outputs": [
    {
     "name": "stdout",
     "output_type": "stream",
     "text": [
      "['FoxS' 'Par.' 'BV' 'Think' 'Fox' 'MGM/W' 'NL' 'WB' 'WB (NL)' 'Uni.' 'Sony'\n",
      " 'SPC' 'Focus' 'Rela.' 'FoxA' 'LGF' 'Mira.' 'Anch.' 'Sum.' 'Orion' 'UA'\n",
      " 'Col.' 'MGM' 'ORF' 'WIP' 'ParV' 'A24' 'RAtt.' 'PicH' 'Cinc' 'Wein.' 'P/DW'\n",
      " 'FRun' 'SGem' 'SonR' 'Lori' 'NM' 'LG/S' 'Magn.' 'Strand' 'DW' 'Eros'\n",
      " 'Lions' 'FL' 'Vari.' 'Viv.' 'CE' 'VE' 'P4' 'First' 'Echo' 'RTWC' 'Dim.'\n",
      " 'CBS' 'USA' 'MNE' 'Circ' 'Rom.' 'Can.' 'Film' 'Art.' 'FFn.' 'Free' 'IFC'\n",
      " 'App.' 'CityL' 'Over.' 'ATO' 'Gram.' 'TriS' 'AL' 'IDP' 'ParC' 'Fabr.'\n",
      " 'WGUSA' 'BST' 'FD' 'Wells' 'Dar.' 'Gold.' 'Acc.' 'Imag.' 'BDF' 'Dest.'\n",
      " 'OMNI/FSR' 'TRR' 'FInd.' 'Emb' 'Trim.' 'Vita.' 'YFG' 'Ode.' 'Drft.'\n",
      " 'Roxie' 'W/Dim.' 'Good' 'Cow.' 'LGP' 'WHE' 'Prior.' 'Rog.' 'Code' 'LD'\n",
      " 'Oct.' 'PMKBNC' 'Lot47' 'NCeV' 'E1' 'IA' 'Mont.' 'RS' 'Osci.' 'PH' 'AIP'\n",
      " 'AFFRM' 'NYer' 'RCR' 'IMG/B' 'GldC' 'NW' 'SMod' 'Isld' 'Boro.' 'Slow'\n",
      " 'Sav.' 'RKO' 'TFA' 'Istr' 'Triu' 'Alc' 'Atl' 'Cohen' 'Indic.' 'Poly'\n",
      " 'Scre.' 'STX' 'Pala.' 'Saban' 'SenD' 'Strat.' 'Mang.' 'AFD' 'Excel' 'IW'\n",
      " 'BPic' 'GK' 'Reg.' 'RM' 'NxtM' 'FCW' 'OrionC']\n"
     ]
    }
   ],
   "source": [
    "print(df.studio.unique())"
   ]
  },
  {
   "cell_type": "code",
   "execution_count": 81,
   "metadata": {
    "collapsed": false
   },
   "outputs": [
    {
     "name": "stdout",
     "output_type": "stream",
     "text": [
      "['A24', 'AFD', 'AFFRM', 'AIP', 'AL', 'ATO', 'Acc.', 'Alc', 'Anch.', 'App.', 'Art.', 'Atl', 'BDF', 'BPic', 'BST', 'BV', 'Boro.', 'CBS', 'CE', 'Can.', 'Cinc', 'Circ', 'CityL', 'Code', 'Cohen', 'Col.', 'Cow.', 'DW', 'Dar.', 'Dest.', 'Dim.', 'Drft.', 'E1', 'Echo', 'Emb', 'Eros', 'Excel', 'FCW', 'FD', 'FFn.', 'FInd.', 'FL', 'FRun', 'Fabr.', 'Film', 'First', 'Focus', 'Fox', 'FoxA', 'FoxS', 'Free', 'GK', 'GldC', 'Gold.', 'Good', 'Gram.', 'IA', 'IDP', 'IFC', 'IMG/B', 'IW', 'Imag.', 'Indic.', 'Isld', 'Istr', 'LD', 'LG/S', 'LGF', 'LGP', 'Lions', 'Lori', 'Lot47', 'MGM', 'MGM/W', 'MNE', 'Magn.', 'Mang.', 'Mira.', 'Mont.', 'NCeV', 'NL', 'NM', 'NW', 'NYer', 'NxtM', 'OMNI/FSR', 'ORF', 'Oct.', 'Ode.', 'Orion', 'OrionC', 'Osci.', 'Over.', 'P/DW', 'P4', 'PH', 'PMKBNC', 'Pala.', 'Par.', 'ParC', 'ParV', 'PicH', 'Poly', 'Prior.', 'RAtt.', 'RCR', 'RKO', 'RM', 'RS', 'RTWC', 'Reg.', 'Rela.', 'Rog.', 'Rom.', 'Roxie', 'SGem', 'SMod', 'SPC', 'STX', 'Saban', 'Sav.', 'Scre.', 'SenD', 'Slow', 'SonR', 'Sony', 'Strand', 'Strat.', 'Sum.', 'TFA', 'TRR', 'Think', 'TriS', 'Trim.', 'Triu', 'UA', 'USA', 'Uni.', 'VE', 'Vari.', 'Vita.', 'Viv.', 'W/Dim.', 'WB', 'WB (NL)', 'WGUSA', 'WHE', 'WIP', 'Wein.', 'Wells', 'YFG']\n"
     ]
    }
   ],
   "source": [
    "# unique values are unsorted so if you want them sorted...\n",
    "print(sorted(df.studio.unique()))"
   ]
  },
  {
   "cell_type": "code",
   "execution_count": null,
   "metadata": {
    "collapsed": true
   },
   "outputs": [],
   "source": []
  },
  {
   "cell_type": "markdown",
   "metadata": {},
   "source": [
    "## Using seaborn's groupby support"
   ]
  },
  {
   "cell_type": "code",
   "execution_count": 82,
   "metadata": {
    "collapsed": false
   },
   "outputs": [],
   "source": [
    "! pip install --upgrade seaborn -q\n",
    "import seaborn as sns"
   ]
  },
  {
   "cell_type": "code",
   "execution_count": 83,
   "metadata": {
    "collapsed": false
   },
   "outputs": [
    {
     "data": {
      "text/html": [
       "<div>\n",
       "<table border=\"1\" class=\"dataframe\">\n",
       "  <thead>\n",
       "    <tr style=\"text-align: right;\">\n",
       "      <th></th>\n",
       "      <th>actor</th>\n",
       "      <th>rank</th>\n",
       "      <th>studio</th>\n",
       "      <th>bday</th>\n",
       "      <th>male</th>\n",
       "      <th>release_date</th>\n",
       "      <th>production_budget</th>\n",
       "      <th>domestic_gross</th>\n",
       "      <th>worldwide_gross</th>\n",
       "    </tr>\n",
       "    <tr>\n",
       "      <th>title</th>\n",
       "      <th></th>\n",
       "      <th></th>\n",
       "      <th></th>\n",
       "      <th></th>\n",
       "      <th></th>\n",
       "      <th></th>\n",
       "      <th></th>\n",
       "      <th></th>\n",
       "      <th></th>\n",
       "    </tr>\n",
       "  </thead>\n",
       "  <tbody>\n",
       "    <tr>\n",
       "      <th>(500) Days of Summer</th>\n",
       "      <td>Chloe Moretz</td>\n",
       "      <td>11</td>\n",
       "      <td>FoxS</td>\n",
       "      <td>1997-02-10</td>\n",
       "      <td>0.0</td>\n",
       "      <td>2009-07-17</td>\n",
       "      <td>7500000.0</td>\n",
       "      <td>32391374.0</td>\n",
       "      <td>59101642.0</td>\n",
       "    </tr>\n",
       "    <tr>\n",
       "      <th>10 Cloverfield Lane</th>\n",
       "      <td>Mary Elizabeth Winstead</td>\n",
       "      <td>4</td>\n",
       "      <td>Par.</td>\n",
       "      <td>1984-11-28</td>\n",
       "      <td>0.0</td>\n",
       "      <td>2016-03-11</td>\n",
       "      <td>5000000.0</td>\n",
       "      <td>69793284.0</td>\n",
       "      <td>101493284.0</td>\n",
       "    </tr>\n",
       "    <tr>\n",
       "      <th>102 Dalmatians</th>\n",
       "      <td>Glenn Close</td>\n",
       "      <td>7</td>\n",
       "      <td>BV</td>\n",
       "      <td>1947-03-19</td>\n",
       "      <td>0.0</td>\n",
       "      <td>2000-11-22</td>\n",
       "      <td>85000000.0</td>\n",
       "      <td>66941559.0</td>\n",
       "      <td>66941559.0</td>\n",
       "    </tr>\n",
       "  </tbody>\n",
       "</table>\n",
       "</div>"
      ],
      "text/plain": [
       "                                        actor  rank studio       bday  male  \\\n",
       "title                                                                         \n",
       "(500) Days of Summer             Chloe Moretz    11   FoxS 1997-02-10   0.0   \n",
       "10 Cloverfield Lane   Mary Elizabeth Winstead     4   Par. 1984-11-28   0.0   \n",
       "102 Dalmatians                    Glenn Close     7     BV 1947-03-19   0.0   \n",
       "\n",
       "                     release_date  production_budget  domestic_gross  \\\n",
       "title                                                                  \n",
       "(500) Days of Summer   2009-07-17          7500000.0      32391374.0   \n",
       "10 Cloverfield Lane    2016-03-11          5000000.0      69793284.0   \n",
       "102 Dalmatians         2000-11-22         85000000.0      66941559.0   \n",
       "\n",
       "                      worldwide_gross  \n",
       "title                                  \n",
       "(500) Days of Summer       59101642.0  \n",
       "10 Cloverfield Lane       101493284.0  \n",
       "102 Dalmatians             66941559.0  "
      ]
     },
     "execution_count": 83,
     "metadata": {},
     "output_type": "execute_result"
    }
   ],
   "source": [
    "n_top = 15\n",
    "# we only want one row per movie, we don't care about actors\n",
    "by_movie_df = df.groupby('title').first()\n",
    "by_movie_df.head(3)"
   ]
  },
  {
   "cell_type": "code",
   "execution_count": 84,
   "metadata": {
    "collapsed": false
   },
   "outputs": [],
   "source": [
    "# select only the top N studios, by total production budget of all movies\n",
    "top_studio_names = by_movie_df.groupby('studio').sum().sort_values('production_budget', ascending=False).index[:n_top]\n",
    "\n",
    "top_studio_df = by_movie_df[by_movie_df.studio.isin(top_studio_names)]"
   ]
  },
  {
   "cell_type": "code",
   "execution_count": 85,
   "metadata": {
    "collapsed": false
   },
   "outputs": [
    {
     "data": {
      "text/html": [
       "<div>\n",
       "<table border=\"1\" class=\"dataframe\">\n",
       "  <thead>\n",
       "    <tr style=\"text-align: right;\">\n",
       "      <th></th>\n",
       "      <th>actor</th>\n",
       "      <th>rank</th>\n",
       "      <th>studio</th>\n",
       "      <th>bday</th>\n",
       "      <th>male</th>\n",
       "      <th>release_date</th>\n",
       "      <th>production_budget</th>\n",
       "      <th>domestic_gross</th>\n",
       "      <th>worldwide_gross</th>\n",
       "    </tr>\n",
       "    <tr>\n",
       "      <th>title</th>\n",
       "      <th></th>\n",
       "      <th></th>\n",
       "      <th></th>\n",
       "      <th></th>\n",
       "      <th></th>\n",
       "      <th></th>\n",
       "      <th></th>\n",
       "      <th></th>\n",
       "      <th></th>\n",
       "    </tr>\n",
       "  </thead>\n",
       "  <tbody>\n",
       "    <tr>\n",
       "      <th>10 Cloverfield Lane</th>\n",
       "      <td>Mary Elizabeth Winstead</td>\n",
       "      <td>4</td>\n",
       "      <td>Par.</td>\n",
       "      <td>1984-11-28</td>\n",
       "      <td>0.0</td>\n",
       "      <td>2016-03-11</td>\n",
       "      <td>5000000.0</td>\n",
       "      <td>69793284.0</td>\n",
       "      <td>101493284.0</td>\n",
       "    </tr>\n",
       "    <tr>\n",
       "      <th>102 Dalmatians</th>\n",
       "      <td>Glenn Close</td>\n",
       "      <td>7</td>\n",
       "      <td>BV</td>\n",
       "      <td>1947-03-19</td>\n",
       "      <td>0.0</td>\n",
       "      <td>2000-11-22</td>\n",
       "      <td>85000000.0</td>\n",
       "      <td>66941559.0</td>\n",
       "      <td>66941559.0</td>\n",
       "    </tr>\n",
       "    <tr>\n",
       "      <th>12 Rounds</th>\n",
       "      <td>John Cena</td>\n",
       "      <td>4</td>\n",
       "      <td>Fox</td>\n",
       "      <td>1977-04-23</td>\n",
       "      <td>1.0</td>\n",
       "      <td>2009-03-27</td>\n",
       "      <td>20000000.0</td>\n",
       "      <td>12234694.0</td>\n",
       "      <td>17306648.0</td>\n",
       "    </tr>\n",
       "    <tr>\n",
       "      <th>13 Hours: The Secret Soldiers of Benghazi</th>\n",
       "      <td>John Krasinski</td>\n",
       "      <td>4</td>\n",
       "      <td>Par.</td>\n",
       "      <td>1979-10-20</td>\n",
       "      <td>1.0</td>\n",
       "      <td>2016-01-15</td>\n",
       "      <td>50000000.0</td>\n",
       "      <td>52853219.0</td>\n",
       "      <td>68053219.0</td>\n",
       "    </tr>\n",
       "  </tbody>\n",
       "</table>\n",
       "</div>"
      ],
      "text/plain": [
       "                                                             actor  rank  \\\n",
       "title                                                                      \n",
       "10 Cloverfield Lane                        Mary Elizabeth Winstead     4   \n",
       "102 Dalmatians                                         Glenn Close     7   \n",
       "12 Rounds                                                John Cena     4   \n",
       "13 Hours: The Secret Soldiers of Benghazi           John Krasinski     4   \n",
       "\n",
       "                                          studio       bday  male  \\\n",
       "title                                                               \n",
       "10 Cloverfield Lane                         Par. 1984-11-28   0.0   \n",
       "102 Dalmatians                                BV 1947-03-19   0.0   \n",
       "12 Rounds                                    Fox 1977-04-23   1.0   \n",
       "13 Hours: The Secret Soldiers of Benghazi   Par. 1979-10-20   1.0   \n",
       "\n",
       "                                          release_date  production_budget  \\\n",
       "title                                                                       \n",
       "10 Cloverfield Lane                         2016-03-11          5000000.0   \n",
       "102 Dalmatians                              2000-11-22         85000000.0   \n",
       "12 Rounds                                   2009-03-27         20000000.0   \n",
       "13 Hours: The Secret Soldiers of Benghazi   2016-01-15         50000000.0   \n",
       "\n",
       "                                           domestic_gross  worldwide_gross  \n",
       "title                                                                       \n",
       "10 Cloverfield Lane                            69793284.0      101493284.0  \n",
       "102 Dalmatians                                 66941559.0       66941559.0  \n",
       "12 Rounds                                      12234694.0       17306648.0  \n",
       "13 Hours: The Secret Soldiers of Benghazi      52853219.0       68053219.0  "
      ]
     },
     "execution_count": 85,
     "metadata": {},
     "output_type": "execute_result"
    }
   ],
   "source": [
    "top_studio_df.head(4)"
   ]
  },
  {
   "cell_type": "code",
   "execution_count": 86,
   "metadata": {
    "collapsed": false
   },
   "outputs": [
    {
     "data": {
      "image/png": "[encoded data removed]",
      "text/plain": [
       "<matplotlib.figure.Figure at 0x7f5ca69c19e8>"
      ]
     },
     "metadata": {},
     "output_type": "display_data"
    }
   ],
   "source": [
    "plt.figure(figsize=(14,8))\n",
    "\n",
    "# we pass the studio column to sns.violinplot\n",
    "# sns.violinplot(top_studio_df.production_budget, groupby=top_studio_df.studio) # old syntax\n",
    "sns.violinplot('studio','production_budget',data=top_studio_df) # new syntax\n",
    "plt.title('Production budget distributions for the top 10 studios');"
   ]
  }
 ],
 "metadata": {
  "kernelspec": {
   "display_name": "Python 3",
   "language": "python",
   "name": "python3"
  },
  "language_info": {
   "codemirror_mode": {
    "name": "ipython",
    "version": 3
   },
   "file_extension": ".py",
   "mimetype": "text/x-python",
   "name": "python",
   "nbconvert_exporter": "python",
   "pygments_lexer": "ipython3",
   "version": "3.5.2"
  }
 },
 "nbformat": 4,
 "nbformat_minor": 1
}
